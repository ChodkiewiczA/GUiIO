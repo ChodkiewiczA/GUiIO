{
 "cells": [
  {
   "cell_type": "code",
   "execution_count": 1,
   "metadata": {
    "scrolled": true
   },
   "outputs": [
    {
     "name": "stderr",
     "output_type": "stream",
     "text": [
      "Using TensorFlow backend.\n",
      "c:\\users\\dorotka\\anaconda3\\envs\\dataanalitics\\lib\\site-packages\\tensorflow\\python\\framework\\dtypes.py:516: FutureWarning: Passing (type, 1) or '1type' as a synonym of type is deprecated; in a future version of numpy, it will be understood as (type, (1,)) / '(1,)type'.\n",
      "  _np_qint8 = np.dtype([(\"qint8\", np.int8, 1)])\n",
      "c:\\users\\dorotka\\anaconda3\\envs\\dataanalitics\\lib\\site-packages\\tensorflow\\python\\framework\\dtypes.py:517: FutureWarning: Passing (type, 1) or '1type' as a synonym of type is deprecated; in a future version of numpy, it will be understood as (type, (1,)) / '(1,)type'.\n",
      "  _np_quint8 = np.dtype([(\"quint8\", np.uint8, 1)])\n",
      "c:\\users\\dorotka\\anaconda3\\envs\\dataanalitics\\lib\\site-packages\\tensorflow\\python\\framework\\dtypes.py:518: FutureWarning: Passing (type, 1) or '1type' as a synonym of type is deprecated; in a future version of numpy, it will be understood as (type, (1,)) / '(1,)type'.\n",
      "  _np_qint16 = np.dtype([(\"qint16\", np.int16, 1)])\n",
      "c:\\users\\dorotka\\anaconda3\\envs\\dataanalitics\\lib\\site-packages\\tensorflow\\python\\framework\\dtypes.py:519: FutureWarning: Passing (type, 1) or '1type' as a synonym of type is deprecated; in a future version of numpy, it will be understood as (type, (1,)) / '(1,)type'.\n",
      "  _np_quint16 = np.dtype([(\"quint16\", np.uint16, 1)])\n",
      "c:\\users\\dorotka\\anaconda3\\envs\\dataanalitics\\lib\\site-packages\\tensorflow\\python\\framework\\dtypes.py:520: FutureWarning: Passing (type, 1) or '1type' as a synonym of type is deprecated; in a future version of numpy, it will be understood as (type, (1,)) / '(1,)type'.\n",
      "  _np_qint32 = np.dtype([(\"qint32\", np.int32, 1)])\n",
      "c:\\users\\dorotka\\anaconda3\\envs\\dataanalitics\\lib\\site-packages\\tensorflow\\python\\framework\\dtypes.py:525: FutureWarning: Passing (type, 1) or '1type' as a synonym of type is deprecated; in a future version of numpy, it will be understood as (type, (1,)) / '(1,)type'.\n",
      "  np_resource = np.dtype([(\"resource\", np.ubyte, 1)])\n",
      "c:\\users\\dorotka\\anaconda3\\envs\\dataanalitics\\lib\\site-packages\\tensorboard\\compat\\tensorflow_stub\\dtypes.py:541: FutureWarning: Passing (type, 1) or '1type' as a synonym of type is deprecated; in a future version of numpy, it will be understood as (type, (1,)) / '(1,)type'.\n",
      "  _np_qint8 = np.dtype([(\"qint8\", np.int8, 1)])\n",
      "c:\\users\\dorotka\\anaconda3\\envs\\dataanalitics\\lib\\site-packages\\tensorboard\\compat\\tensorflow_stub\\dtypes.py:542: FutureWarning: Passing (type, 1) or '1type' as a synonym of type is deprecated; in a future version of numpy, it will be understood as (type, (1,)) / '(1,)type'.\n",
      "  _np_quint8 = np.dtype([(\"quint8\", np.uint8, 1)])\n",
      "c:\\users\\dorotka\\anaconda3\\envs\\dataanalitics\\lib\\site-packages\\tensorboard\\compat\\tensorflow_stub\\dtypes.py:543: FutureWarning: Passing (type, 1) or '1type' as a synonym of type is deprecated; in a future version of numpy, it will be understood as (type, (1,)) / '(1,)type'.\n",
      "  _np_qint16 = np.dtype([(\"qint16\", np.int16, 1)])\n",
      "c:\\users\\dorotka\\anaconda3\\envs\\dataanalitics\\lib\\site-packages\\tensorboard\\compat\\tensorflow_stub\\dtypes.py:544: FutureWarning: Passing (type, 1) or '1type' as a synonym of type is deprecated; in a future version of numpy, it will be understood as (type, (1,)) / '(1,)type'.\n",
      "  _np_quint16 = np.dtype([(\"quint16\", np.uint16, 1)])\n",
      "c:\\users\\dorotka\\anaconda3\\envs\\dataanalitics\\lib\\site-packages\\tensorboard\\compat\\tensorflow_stub\\dtypes.py:545: FutureWarning: Passing (type, 1) or '1type' as a synonym of type is deprecated; in a future version of numpy, it will be understood as (type, (1,)) / '(1,)type'.\n",
      "  _np_qint32 = np.dtype([(\"qint32\", np.int32, 1)])\n",
      "c:\\users\\dorotka\\anaconda3\\envs\\dataanalitics\\lib\\site-packages\\tensorboard\\compat\\tensorflow_stub\\dtypes.py:550: FutureWarning: Passing (type, 1) or '1type' as a synonym of type is deprecated; in a future version of numpy, it will be understood as (type, (1,)) / '(1,)type'.\n",
      "  np_resource = np.dtype([(\"resource\", np.ubyte, 1)])\n"
     ]
    }
   ],
   "source": [
    "import numpy as np\n",
    "import pandas as pd\n",
    "\n",
    "\n",
    "from keras.models import Sequential\n",
    "from keras.layers import Dense, Dropout, Activation\n",
    "from keras.models import Model\n",
    "from keras.layers import LSTM\n",
    "\n",
    "from sklearn.model_selection import train_test_split\n",
    "from sklearn.preprocessing import StandardScaler\n",
    "from sklearn.metrics import mean_squared_error\n",
    "\n",
    "from math import sqrt"
   ]
  },
  {
   "cell_type": "code",
   "execution_count": 2,
   "metadata": {},
   "outputs": [],
   "source": [
    "import matplotlib.pyplot as plt\n",
    "\n",
    "def show_y_pred_test(y_pred_df, y_test_df, n=3,size = 100, station_name = \"\"):\n",
    "    plt.figure()\n",
    "    plt.plot(y_pred_df['PM10_Forecast_{}h'.format(n)][:size])\n",
    "    plt.plot(y_test_df.reset_index()['PM10_Forecast_{}h'.format(n)][:size] )\n",
    "    plt.title(\"Forecast {}h {}\".format(n, station_name))\n",
    "    plt.ylabel('PM10')\n",
    "    plt.xlabel('index')\n",
    "    plt.legend(['y_predicted', 'y_original'], loc='upper left')\n",
    "    return plt"
   ]
  },
  {
   "cell_type": "markdown",
   "metadata": {},
   "source": [
    "# Dane"
   ]
  },
  {
   "cell_type": "code",
   "execution_count": 3,
   "metadata": {
    "scrolled": true
   },
   "outputs": [
    {
     "data": {
      "text/html": [
       "<div>\n",
       "<style scoped>\n",
       "    .dataframe tbody tr th:only-of-type {\n",
       "        vertical-align: middle;\n",
       "    }\n",
       "\n",
       "    .dataframe tbody tr th {\n",
       "        vertical-align: top;\n",
       "    }\n",
       "\n",
       "    .dataframe thead th {\n",
       "        text-align: right;\n",
       "    }\n",
       "</style>\n",
       "<table border=\"1\" class=\"dataframe\">\n",
       "  <thead>\n",
       "    <tr style=\"text-align: right;\">\n",
       "      <th></th>\n",
       "      <th>timestamp</th>\n",
       "      <th>MpKrakAlKras-PM10-1g</th>\n",
       "      <th>Weather</th>\n",
       "      <th>Temp(C)</th>\n",
       "      <th>Wind(m/s)</th>\n",
       "      <th>Direction(deg)</th>\n",
       "      <th>Humidity</th>\n",
       "      <th>Barometer(mbar)</th>\n",
       "      <th>PM10_Forecast_3h</th>\n",
       "      <th>PM10_Forecast_8h</th>\n",
       "      <th>PM10_Forecast_12h</th>\n",
       "    </tr>\n",
       "  </thead>\n",
       "  <tbody>\n",
       "    <tr>\n",
       "      <th>0</th>\n",
       "      <td>2017-01-01 01:00:00</td>\n",
       "      <td>213.733</td>\n",
       "      <td>Ice fog.</td>\n",
       "      <td>-6.0</td>\n",
       "      <td>1.0</td>\n",
       "      <td>0.0</td>\n",
       "      <td>0.93</td>\n",
       "      <td>10.24</td>\n",
       "      <td>244.690</td>\n",
       "      <td>187.320</td>\n",
       "      <td>121.805</td>\n",
       "    </tr>\n",
       "    <tr>\n",
       "      <th>1</th>\n",
       "      <td>2017-01-01 02:00:00</td>\n",
       "      <td>213.868</td>\n",
       "      <td>Ice fog.</td>\n",
       "      <td>-7.0</td>\n",
       "      <td>2.0</td>\n",
       "      <td>190.0</td>\n",
       "      <td>0.93</td>\n",
       "      <td>10.24</td>\n",
       "      <td>224.673</td>\n",
       "      <td>181.194</td>\n",
       "      <td>119.096</td>\n",
       "    </tr>\n",
       "    <tr>\n",
       "      <th>2</th>\n",
       "      <td>2017-01-01 03:00:00</td>\n",
       "      <td>221.923</td>\n",
       "      <td>Ice fog.</td>\n",
       "      <td>-4.0</td>\n",
       "      <td>3.0</td>\n",
       "      <td>200.0</td>\n",
       "      <td>0.80</td>\n",
       "      <td>10.23</td>\n",
       "      <td>212.159</td>\n",
       "      <td>161.198</td>\n",
       "      <td>121.681</td>\n",
       "    </tr>\n",
       "    <tr>\n",
       "      <th>3</th>\n",
       "      <td>2017-01-01 04:00:00</td>\n",
       "      <td>244.690</td>\n",
       "      <td>Ice fog.</td>\n",
       "      <td>-7.0</td>\n",
       "      <td>3.0</td>\n",
       "      <td>210.0</td>\n",
       "      <td>0.86</td>\n",
       "      <td>10.22</td>\n",
       "      <td>198.375</td>\n",
       "      <td>136.218</td>\n",
       "      <td>138.353</td>\n",
       "    </tr>\n",
       "    <tr>\n",
       "      <th>4</th>\n",
       "      <td>2017-01-01 05:00:00</td>\n",
       "      <td>224.673</td>\n",
       "      <td>Ice fog.</td>\n",
       "      <td>-6.0</td>\n",
       "      <td>3.0</td>\n",
       "      <td>200.0</td>\n",
       "      <td>0.80</td>\n",
       "      <td>10.22</td>\n",
       "      <td>191.881</td>\n",
       "      <td>121.805</td>\n",
       "      <td>150.415</td>\n",
       "    </tr>\n",
       "  </tbody>\n",
       "</table>\n",
       "</div>"
      ],
      "text/plain": [
       "             timestamp  MpKrakAlKras-PM10-1g   Weather  Temp(C)  Wind(m/s)  \\\n",
       "0  2017-01-01 01:00:00               213.733  Ice fog.     -6.0        1.0   \n",
       "1  2017-01-01 02:00:00               213.868  Ice fog.     -7.0        2.0   \n",
       "2  2017-01-01 03:00:00               221.923  Ice fog.     -4.0        3.0   \n",
       "3  2017-01-01 04:00:00               244.690  Ice fog.     -7.0        3.0   \n",
       "4  2017-01-01 05:00:00               224.673  Ice fog.     -6.0        3.0   \n",
       "\n",
       "   Direction(deg)  Humidity  Barometer(mbar)  PM10_Forecast_3h  \\\n",
       "0             0.0      0.93            10.24           244.690   \n",
       "1           190.0      0.93            10.24           224.673   \n",
       "2           200.0      0.80            10.23           212.159   \n",
       "3           210.0      0.86            10.22           198.375   \n",
       "4           200.0      0.80            10.22           191.881   \n",
       "\n",
       "   PM10_Forecast_8h  PM10_Forecast_12h  \n",
       "0           187.320            121.805  \n",
       "1           181.194            119.096  \n",
       "2           161.198            121.681  \n",
       "3           136.218            138.353  \n",
       "4           121.805            150.415  "
      ]
     },
     "execution_count": 3,
     "metadata": {},
     "output_type": "execute_result"
    }
   ],
   "source": [
    "data = pd.read_csv(\"./data_preprocessed/2017-2018_single_MpKrakAlKras_with_forecast3_8_12h_cleared.csv\")\n",
    "\n",
    "data.head(5)"
   ]
  },
  {
   "cell_type": "code",
   "execution_count": 4,
   "metadata": {},
   "outputs": [],
   "source": [
    "X = data[[\"MpKrakAlKras-PM10-1g\",\"Direction(deg)\",\"Temp(C)\",\"Wind(m/s)\",\"Humidity\",\"Barometer(mbar)\"]]\n",
    "\n",
    "y = data[[\"PM10_Forecast_3h\",\"PM10_Forecast_8h\",\"PM10_Forecast_12h\"]]"
   ]
  },
  {
   "cell_type": "code",
   "execution_count": 5,
   "metadata": {
    "scrolled": true
   },
   "outputs": [
    {
     "data": {
      "text/html": [
       "<div>\n",
       "<style scoped>\n",
       "    .dataframe tbody tr th:only-of-type {\n",
       "        vertical-align: middle;\n",
       "    }\n",
       "\n",
       "    .dataframe tbody tr th {\n",
       "        vertical-align: top;\n",
       "    }\n",
       "\n",
       "    .dataframe thead th {\n",
       "        text-align: right;\n",
       "    }\n",
       "</style>\n",
       "<table border=\"1\" class=\"dataframe\">\n",
       "  <thead>\n",
       "    <tr style=\"text-align: right;\">\n",
       "      <th></th>\n",
       "      <th>MpKrakAlKras-PM10-1g</th>\n",
       "      <th>Direction(deg)</th>\n",
       "      <th>Temp(C)</th>\n",
       "      <th>Wind(m/s)</th>\n",
       "      <th>Humidity</th>\n",
       "      <th>Barometer(mbar)</th>\n",
       "    </tr>\n",
       "  </thead>\n",
       "  <tbody>\n",
       "    <tr>\n",
       "      <th>0</th>\n",
       "      <td>3.406057</td>\n",
       "      <td>-1.229537</td>\n",
       "      <td>-1.641839</td>\n",
       "      <td>-1.06963</td>\n",
       "      <td>0.922469</td>\n",
       "      <td>1.009585</td>\n",
       "    </tr>\n",
       "    <tr>\n",
       "      <th>1</th>\n",
       "      <td>3.408971</td>\n",
       "      <td>0.461359</td>\n",
       "      <td>-1.747499</td>\n",
       "      <td>-0.62705</td>\n",
       "      <td>0.922469</td>\n",
       "      <td>1.009585</td>\n",
       "    </tr>\n",
       "    <tr>\n",
       "      <th>2</th>\n",
       "      <td>3.582857</td>\n",
       "      <td>0.550354</td>\n",
       "      <td>-1.430521</td>\n",
       "      <td>-0.18447</td>\n",
       "      <td>0.165148</td>\n",
       "      <td>0.881591</td>\n",
       "    </tr>\n",
       "    <tr>\n",
       "      <th>3</th>\n",
       "      <td>4.074335</td>\n",
       "      <td>0.639348</td>\n",
       "      <td>-1.747499</td>\n",
       "      <td>-0.18447</td>\n",
       "      <td>0.514681</td>\n",
       "      <td>0.753597</td>\n",
       "    </tr>\n",
       "    <tr>\n",
       "      <th>4</th>\n",
       "      <td>3.642222</td>\n",
       "      <td>0.550354</td>\n",
       "      <td>-1.641839</td>\n",
       "      <td>-0.18447</td>\n",
       "      <td>0.165148</td>\n",
       "      <td>0.753597</td>\n",
       "    </tr>\n",
       "  </tbody>\n",
       "</table>\n",
       "</div>"
      ],
      "text/plain": [
       "   MpKrakAlKras-PM10-1g  Direction(deg)   Temp(C)  Wind(m/s)  Humidity  \\\n",
       "0              3.406057       -1.229537 -1.641839   -1.06963  0.922469   \n",
       "1              3.408971        0.461359 -1.747499   -0.62705  0.922469   \n",
       "2              3.582857        0.550354 -1.430521   -0.18447  0.165148   \n",
       "3              4.074335        0.639348 -1.747499   -0.18447  0.514681   \n",
       "4              3.642222        0.550354 -1.641839   -0.18447  0.165148   \n",
       "\n",
       "   Barometer(mbar)  \n",
       "0         1.009585  \n",
       "1         1.009585  \n",
       "2         0.881591  \n",
       "3         0.753597  \n",
       "4         0.753597  "
      ]
     },
     "execution_count": 5,
     "metadata": {},
     "output_type": "execute_result"
    }
   ],
   "source": [
    "scaler = StandardScaler()\n",
    "X_scale = pd.DataFrame(scaler.fit_transform(X),columns=X.columns)\n",
    "X_scale.head()"
   ]
  },
  {
   "cell_type": "markdown",
   "metadata": {},
   "source": [
    "# PCA"
   ]
  },
  {
   "cell_type": "code",
   "execution_count": 6,
   "metadata": {},
   "outputs": [],
   "source": [
    "from sklearn.decomposition import PCA\n",
    "\n",
    "pca = PCA(n_components=5)\n",
    "\n",
    "X_pca = pca.fit_transform(X_scale)"
   ]
  },
  {
   "cell_type": "code",
   "execution_count": 7,
   "metadata": {},
   "outputs": [],
   "source": [
    "#weather_id trzeba by dodać jako one-hot a nie słownik, tylko że wtedy mamy 100 dodatkowych kolumn\n",
    "\n",
    "train_X, test_X, train_y, test_y = train_test_split(X_pca, y, test_size=0.1,\n",
    "                                                    random_state=0)"
   ]
  },
  {
   "cell_type": "code",
   "execution_count": 8,
   "metadata": {},
   "outputs": [],
   "source": [
    "# train_X = train_X.reshape((train_X.shape[0], 1, train_X.shape[1]))\n",
    "# test_X = test_X.reshape((test_X.shape[0], 1, test_X.shape[1]))"
   ]
  },
  {
   "cell_type": "markdown",
   "metadata": {},
   "source": [
    "# Model"
   ]
  },
  {
   "cell_type": "code",
   "execution_count": 9,
   "metadata": {},
   "outputs": [],
   "source": [
    "# from keras.wrappers.scikit_learn import KerasRegressor\n",
    "# from sklearn.model_selection import cross_val_score\n",
    "# from sklearn.model_selection import KFold\n",
    "\n",
    "def create_model():\n",
    "    # create model\n",
    "    model = Sequential()\n",
    "    model.add(Dense(12, input_dim=5, activation='sigmoid'))\n",
    "    model.add(Dense(8, activation='sigmoid'))\n",
    "    model.add(Dense(3, activation='linear'))\n",
    "\n",
    "    # Compile model\n",
    "    model.compile(loss='mean_squared_error', optimizer='adam' , metrics=['mse', 'mae'])\n",
    "    return model\n",
    "\n",
    "# evaluate model\n",
    "# estimator_kras = KerasRegressor(build_fn=create_model, epochs=50, batch_size=20, verbose=0)"
   ]
  },
  {
   "cell_type": "raw",
   "metadata": {
    "scrolled": true
   },
   "source": [
    "history = estimator_kras.fit(train_X, train_y, epochs=50, batch_size=20, verbose = 1)"
   ]
  },
  {
   "cell_type": "code",
   "execution_count": 10,
   "metadata": {
    "scrolled": true
   },
   "outputs": [
    {
     "name": "stdout",
     "output_type": "stream",
     "text": [
      "WARNING:tensorflow:From c:\\users\\dorotka\\anaconda3\\envs\\dataanalitics\\lib\\site-packages\\keras\\backend\\tensorflow_backend.py:422: The name tf.global_variables is deprecated. Please use tf.compat.v1.global_variables instead.\n",
      "\n",
      "Epoch 1/50\n",
      "15572/15572 [==============================] - 2s 110us/step - loss: 4847.5800 - mse: 4847.5781 - mae: 52.2741\n",
      "Epoch 2/50\n",
      "15572/15572 [==============================] - 2s 102us/step - loss: 4150.4766 - mse: 4150.4746 - mae: 45.2251\n",
      "Epoch 3/50\n",
      "15572/15572 [==============================] - 1s 92us/step - loss: 3553.3895 - mse: 3553.3923 - mae: 38.8022\n",
      "Epoch 4/50\n",
      "15572/15572 [==============================] - 1s 93us/step - loss: 3125.5138 - mse: 3125.5137 - mae: 34.4518\n",
      "Epoch 5/50\n",
      "15572/15572 [==============================] - 1s 83us/step - loss: 2801.4632 - mse: 2801.4622 - mae: 31.5477\n",
      "Epoch 6/50\n",
      "15572/15572 [==============================] - 1s 84us/step - loss: 2553.8412 - mse: 2553.8420 - mae: 29.7170\n",
      "Epoch 7/50\n",
      "15572/15572 [==============================] - 1s 83us/step - loss: 2345.4519 - mse: 2345.4512 - mae: 28.0595\n",
      "Epoch 8/50\n",
      "15572/15572 [==============================] - 1s 86us/step - loss: 2165.4275 - mse: 2165.4270 - mae: 26.7172\n",
      "Epoch 9/50\n",
      "15572/15572 [==============================] - 1s 90us/step - loss: 2005.6737 - mse: 2005.6729 - mae: 25.5209\n",
      "Epoch 10/50\n",
      "15572/15572 [==============================] - 1s 92us/step - loss: 1870.2828 - mse: 1870.2821 - mae: 24.6246\n",
      "Epoch 11/50\n",
      "15572/15572 [==============================] - 2s 102us/step - loss: 1757.7367 - mse: 1757.7360 - mae: 23.9831\n",
      "Epoch 12/50\n",
      "15572/15572 [==============================] - 2s 113us/step - loss: 1663.0073 - mse: 1663.0084 - mae: 23.4713\n",
      "Epoch 13/50\n",
      "15572/15572 [==============================] - 1s 85us/step - loss: 1582.4083 - mse: 1582.4088 - mae: 23.0532\n",
      "Epoch 14/50\n",
      "15572/15572 [==============================] - 1s 85us/step - loss: 1513.9403 - mse: 1513.9398 - mae: 22.7015\n",
      "Epoch 15/50\n",
      "15572/15572 [==============================] - 1s 86us/step - loss: 1455.8835 - mse: 1455.8835 - mae: 22.4241\n",
      "Epoch 16/50\n",
      "15572/15572 [==============================] - 1s 91us/step - loss: 1406.1208 - mse: 1406.1213 - mae: 22.1870\n",
      "Epoch 17/50\n",
      "15572/15572 [==============================] - 1s 87us/step - loss: 1362.7364 - mse: 1362.7365 - mae: 21.9902\n",
      "Epoch 18/50\n",
      "15572/15572 [==============================] - 1s 87us/step - loss: 1324.4772 - mse: 1324.4769 - mae: 21.8125\n",
      "Epoch 19/50\n",
      "15572/15572 [==============================] - 1s 87us/step - loss: 1290.2636 - mse: 1290.2643 - mae: 21.6685\n",
      "Epoch 20/50\n",
      "15572/15572 [==============================] - 1s 87us/step - loss: 1258.9782 - mse: 1258.9789 - mae: 21.4931\n",
      "Epoch 21/50\n",
      "15572/15572 [==============================] - 1s 87us/step - loss: 1229.8955 - mse: 1229.8954 - mae: 21.3738\n",
      "Epoch 22/50\n",
      "15572/15572 [==============================] - 1s 88us/step - loss: 1203.2906 - mse: 1203.2899 - mae: 21.2304\n",
      "Epoch 23/50\n",
      "15572/15572 [==============================] - 1s 90us/step - loss: 1178.5952 - mse: 1178.5955 - mae: 21.1154\n",
      "Epoch 24/50\n",
      "15572/15572 [==============================] - 1s 90us/step - loss: 1155.7949 - mse: 1155.7958 - mae: 20.9967\n",
      "Epoch 25/50\n",
      "15572/15572 [==============================] - 1s 88us/step - loss: 1134.7895 - mse: 1134.7897 - mae: 20.9124\n",
      "Epoch 26/50\n",
      "15572/15572 [==============================] - 1s 87us/step - loss: 1115.2345 - mse: 1115.2347 - mae: 20.8007\n",
      "Epoch 27/50\n",
      "15572/15572 [==============================] - 1s 88us/step - loss: 1096.8611 - mse: 1096.8610 - mae: 20.7155\n",
      "Epoch 28/50\n",
      "15572/15572 [==============================] - 1s 87us/step - loss: 1079.8932 - mse: 1079.8934 - mae: 20.6279\n",
      "Epoch 29/50\n",
      "15572/15572 [==============================] - 1s 88us/step - loss: 1063.8480 - mse: 1063.8479 - mae: 20.5523 1s -\n",
      "Epoch 30/50\n",
      "15572/15572 [==============================] - 1s 91us/step - loss: 1048.8912 - mse: 1048.8914 - mae: 20.4679\n",
      "Epoch 31/50\n",
      "15572/15572 [==============================] - 1s 89us/step - loss: 1034.9684 - mse: 1034.9685 - mae: 20.4020\n",
      "Epoch 32/50\n",
      "15572/15572 [==============================] - 1s 88us/step - loss: 1021.9110 - mse: 1021.9114 - mae: 20.3357\n",
      "Epoch 33/50\n",
      "15572/15572 [==============================] - 1s 88us/step - loss: 1009.9252 - mse: 1009.9250 - mae: 20.2906\n",
      "Epoch 34/50\n",
      "15572/15572 [==============================] - 1s 90us/step - loss: 998.9017 - mse: 998.9019 - mae: 20.2224\n",
      "Epoch 35/50\n",
      "15572/15572 [==============================] - 1s 94us/step - loss: 988.2209 - mse: 988.2214 - mae: 20.1748\n",
      "Epoch 36/50\n",
      "15572/15572 [==============================] - 1s 87us/step - loss: 978.1561 - mse: 978.1562 - mae: 20.1255\n",
      "Epoch 37/50\n",
      "15572/15572 [==============================] - 1s 89us/step - loss: 968.4782 - mse: 968.4780 - mae: 20.0675\n",
      "Epoch 38/50\n",
      "15572/15572 [==============================] - 1s 87us/step - loss: 959.4658 - mse: 959.4657 - mae: 20.0520\n",
      "Epoch 39/50\n",
      "15572/15572 [==============================] - 1s 87us/step - loss: 951.7643 - mse: 951.7637 - mae: 19.9828\n",
      "Epoch 40/50\n",
      "15572/15572 [==============================] - 1s 90us/step - loss: 944.0838 - mse: 944.0840 - mae: 19.9577\n",
      "Epoch 41/50\n",
      "15572/15572 [==============================] - 1s 94us/step - loss: 936.7942 - mse: 936.7941 - mae: 19.9178\n",
      "Epoch 42/50\n",
      "15572/15572 [==============================] - 1s 92us/step - loss: 929.9797 - mse: 929.9792 - mae: 19.9016\n",
      "Epoch 43/50\n",
      "15572/15572 [==============================] - 1s 84us/step - loss: 923.6643 - mse: 923.6642 - mae: 19.8626\n",
      "Epoch 44/50\n",
      "15572/15572 [==============================] - 1s 94us/step - loss: 917.2997 - mse: 917.2995 - mae: 19.8299\n",
      "Epoch 45/50\n",
      "15572/15572 [==============================] - 1s 94us/step - loss: 911.8343 - mse: 911.8341 - mae: 19.7961\n",
      "Epoch 46/50\n",
      "15572/15572 [==============================] - 1s 90us/step - loss: 906.3028 - mse: 906.3026 - mae: 19.7837\n",
      "Epoch 47/50\n",
      "15572/15572 [==============================] - 2s 98us/step - loss: 901.1251 - mse: 901.1251 - mae: 19.7514\n",
      "Epoch 48/50\n",
      "15572/15572 [==============================] - 1s 85us/step - loss: 896.1353 - mse: 896.1355 - mae: 19.7135\n",
      "Epoch 49/50\n",
      "15572/15572 [==============================] - 1s 91us/step - loss: 891.5169 - mse: 891.5168 - mae: 19.7179\n",
      "Epoch 50/50\n",
      "15572/15572 [==============================] - 1s 88us/step - loss: 887.1640 - mse: 887.1638 - mae: 19.6890\n"
     ]
    }
   ],
   "source": [
    "model_kras = create_model()\n",
    "history = model_kras.fit(train_X, train_y, epochs=50, batch_size=20, verbose = 1)"
   ]
  },
  {
   "cell_type": "code",
   "execution_count": 11,
   "metadata": {},
   "outputs": [
    {
     "data": {
      "image/png": "[encoded data removed]",
      "text/plain": [
       "<Figure size 432x288 with 1 Axes>"
      ]
     },
     "metadata": {
      "needs_background": "light"
     },
     "output_type": "display_data"
    }
   ],
   "source": [
    "hist_k = 'mse'\n",
    "plt.plot(history.history[hist_k])\n",
    "plt.title(\"model {}\".format(hist_k))\n",
    "plt.ylabel(hist_k)\n",
    "plt.xlabel('epoch')\n",
    "plt.legend(['train', 'test'], loc='upper left')\n",
    "plt.show()"
   ]
  },
  {
   "cell_type": "code",
   "execution_count": 12,
   "metadata": {
    "scrolled": true
   },
   "outputs": [
    {
     "data": {
      "text/plain": [
       "30.904994173264427"
      ]
     },
     "execution_count": 12,
     "metadata": {},
     "output_type": "execute_result"
    }
   ],
   "source": [
    "y_pred = model_kras.predict(test_X)\n",
    "rms = sqrt(mean_squared_error(test_y, y_pred))\n",
    "rms"
   ]
  },
  {
   "cell_type": "code",
   "execution_count": 13,
   "metadata": {},
   "outputs": [
    {
     "data": {
      "text/plain": [
       "array([[50.898323, 50.96653 , 50.8656  ]], dtype=float32)"
      ]
     },
     "execution_count": 13,
     "metadata": {},
     "output_type": "execute_result"
    }
   ],
   "source": [
    "now = np.array([[20,210,-8,3,0.8 ,10]])\n",
    "n=scaler.transform(now)\n",
    "n = pca.transform(n)\n",
    "\n",
    "pred = model_kras.predict(n)\n",
    "pred\n",
    "#def predict(condtions):\n",
    "#    x_test = pad_sequences(tokenizer.texts_to_sequences([text]), maxlen=96)\n",
    "#    score = model.predict([x_test])[0]"
   ]
  },
  {
   "cell_type": "markdown",
   "metadata": {},
   "source": [
    "### Podsumowanie"
   ]
  },
  {
   "cell_type": "code",
   "execution_count": 14,
   "metadata": {},
   "outputs": [
    {
     "data": {
      "text/html": [
       "<div>\n",
       "<style scoped>\n",
       "    .dataframe tbody tr th:only-of-type {\n",
       "        vertical-align: middle;\n",
       "    }\n",
       "\n",
       "    .dataframe tbody tr th {\n",
       "        vertical-align: top;\n",
       "    }\n",
       "\n",
       "    .dataframe thead th {\n",
       "        text-align: right;\n",
       "    }\n",
       "</style>\n",
       "<table border=\"1\" class=\"dataframe\">\n",
       "  <thead>\n",
       "    <tr style=\"text-align: right;\">\n",
       "      <th></th>\n",
       "      <th>PM10_Forecast_3h</th>\n",
       "      <th>PM10_Forecast_8h</th>\n",
       "      <th>PM10_Forecast_12h</th>\n",
       "    </tr>\n",
       "  </thead>\n",
       "  <tbody>\n",
       "    <tr>\n",
       "      <th>0</th>\n",
       "      <td>168.691010</td>\n",
       "      <td>154.940857</td>\n",
       "      <td>150.549744</td>\n",
       "    </tr>\n",
       "    <tr>\n",
       "      <th>1</th>\n",
       "      <td>118.747551</td>\n",
       "      <td>111.632027</td>\n",
       "      <td>108.984879</td>\n",
       "    </tr>\n",
       "    <tr>\n",
       "      <th>2</th>\n",
       "      <td>132.281784</td>\n",
       "      <td>123.300652</td>\n",
       "      <td>120.164139</td>\n",
       "    </tr>\n",
       "    <tr>\n",
       "      <th>3</th>\n",
       "      <td>169.165237</td>\n",
       "      <td>155.358063</td>\n",
       "      <td>150.953003</td>\n",
       "    </tr>\n",
       "    <tr>\n",
       "      <th>4</th>\n",
       "      <td>74.636414</td>\n",
       "      <td>72.744370</td>\n",
       "      <td>71.723282</td>\n",
       "    </tr>\n",
       "  </tbody>\n",
       "</table>\n",
       "</div>"
      ],
      "text/plain": [
       "   PM10_Forecast_3h  PM10_Forecast_8h  PM10_Forecast_12h\n",
       "0        168.691010        154.940857         150.549744\n",
       "1        118.747551        111.632027         108.984879\n",
       "2        132.281784        123.300652         120.164139\n",
       "3        169.165237        155.358063         150.953003\n",
       "4         74.636414         72.744370          71.723282"
      ]
     },
     "execution_count": 14,
     "metadata": {},
     "output_type": "execute_result"
    }
   ],
   "source": [
    "_, X_test_orig, _, y_test_orig = train_test_split(X, y, test_size=0.1,\n",
    "                                                    random_state=0)\n",
    "\n",
    "y_test_orig = y_test_orig.sort_index()\n",
    "X_test_orig = X_test_orig.sort_index()\n",
    "\n",
    "X_test_scaler = pd.DataFrame(scaler.transform(X_test_orig),columns=X_test_orig.columns)\n",
    "X_test_pca = pca.transform(X_test_scaler)\n",
    "\n",
    "y_pred = model_kras.predict(X_test_pca)\n",
    "y_pred_df = pd.DataFrame(y_pred,columns=y_test_orig.columns)\n",
    "y_pred_df.head()"
   ]
  },
  {
   "cell_type": "code",
   "execution_count": 15,
   "metadata": {},
   "outputs": [
    {
     "data": {
      "image/png": "[encoded data removed]",
      "text/plain": [
       "<Figure size 432x288 with 1 Axes>"
      ]
     },
     "metadata": {
      "needs_background": "light"
     },
     "output_type": "display_data"
    },
    {
     "data": {
      "image/png": "[encoded data removed]",
      "text/plain": [
       "<Figure size 432x288 with 1 Axes>"
      ]
     },
     "metadata": {
      "needs_background": "light"
     },
     "output_type": "display_data"
    },
    {
     "data": {
      "image/png": "[encoded data removed]",
      "text/plain": [
       "<Figure size 432x288 with 1 Axes>"
      ]
     },
     "metadata": {
      "needs_background": "light"
     },
     "output_type": "display_data"
    }
   ],
   "source": [
    "for n in (3, 8, 12):\n",
    "    show_y_pred_test(y_pred_df, y_test_orig, n=n, size=50, station_name=\"Al. Krasinskiego\")"
   ]
  },
  {
   "cell_type": "markdown",
   "metadata": {},
   "source": [
    "# To samo dla ul Bujaka"
   ]
  },
  {
   "cell_type": "code",
   "execution_count": 16,
   "metadata": {},
   "outputs": [
    {
     "data": {
      "text/html": [
       "<div>\n",
       "<style scoped>\n",
       "    .dataframe tbody tr th:only-of-type {\n",
       "        vertical-align: middle;\n",
       "    }\n",
       "\n",
       "    .dataframe tbody tr th {\n",
       "        vertical-align: top;\n",
       "    }\n",
       "\n",
       "    .dataframe thead th {\n",
       "        text-align: right;\n",
       "    }\n",
       "</style>\n",
       "<table border=\"1\" class=\"dataframe\">\n",
       "  <thead>\n",
       "    <tr style=\"text-align: right;\">\n",
       "      <th></th>\n",
       "      <th>timestamp</th>\n",
       "      <th>MpKrakBujaka-PM10-1g</th>\n",
       "      <th>Weather</th>\n",
       "      <th>Temp(C)</th>\n",
       "      <th>Wind(m/s)</th>\n",
       "      <th>Direction(deg)</th>\n",
       "      <th>Humidity</th>\n",
       "      <th>Barometer(mbar)</th>\n",
       "      <th>PM10_Forecast_3h</th>\n",
       "      <th>PM10_Forecast_8h</th>\n",
       "      <th>PM10_Forecast_12h</th>\n",
       "    </tr>\n",
       "  </thead>\n",
       "  <tbody>\n",
       "    <tr>\n",
       "      <th>0</th>\n",
       "      <td>2017-01-01 01:00:00</td>\n",
       "      <td>392.428</td>\n",
       "      <td>Ice fog.</td>\n",
       "      <td>-6.0</td>\n",
       "      <td>1.0</td>\n",
       "      <td>0.0</td>\n",
       "      <td>0.93</td>\n",
       "      <td>10.24</td>\n",
       "      <td>191.820</td>\n",
       "      <td>153.0490</td>\n",
       "      <td>81.3565</td>\n",
       "    </tr>\n",
       "    <tr>\n",
       "      <th>1</th>\n",
       "      <td>2017-01-01 02:00:00</td>\n",
       "      <td>258.667</td>\n",
       "      <td>Ice fog.</td>\n",
       "      <td>-7.0</td>\n",
       "      <td>2.0</td>\n",
       "      <td>190.0</td>\n",
       "      <td>0.93</td>\n",
       "      <td>10.24</td>\n",
       "      <td>187.663</td>\n",
       "      <td>127.6300</td>\n",
       "      <td>68.4491</td>\n",
       "    </tr>\n",
       "    <tr>\n",
       "      <th>2</th>\n",
       "      <td>2017-01-01 03:00:00</td>\n",
       "      <td>211.760</td>\n",
       "      <td>Ice fog.</td>\n",
       "      <td>-4.0</td>\n",
       "      <td>3.0</td>\n",
       "      <td>200.0</td>\n",
       "      <td>0.80</td>\n",
       "      <td>10.23</td>\n",
       "      <td>183.347</td>\n",
       "      <td>119.8900</td>\n",
       "      <td>83.1521</td>\n",
       "    </tr>\n",
       "    <tr>\n",
       "      <th>3</th>\n",
       "      <td>2017-01-01 04:00:00</td>\n",
       "      <td>191.820</td>\n",
       "      <td>Ice fog.</td>\n",
       "      <td>-7.0</td>\n",
       "      <td>3.0</td>\n",
       "      <td>210.0</td>\n",
       "      <td>0.86</td>\n",
       "      <td>10.22</td>\n",
       "      <td>153.062</td>\n",
       "      <td>108.1610</td>\n",
       "      <td>114.0370</td>\n",
       "    </tr>\n",
       "    <tr>\n",
       "      <th>4</th>\n",
       "      <td>2017-01-01 05:00:00</td>\n",
       "      <td>187.663</td>\n",
       "      <td>Ice fog.</td>\n",
       "      <td>-6.0</td>\n",
       "      <td>3.0</td>\n",
       "      <td>200.0</td>\n",
       "      <td>0.80</td>\n",
       "      <td>10.22</td>\n",
       "      <td>148.309</td>\n",
       "      <td>81.3565</td>\n",
       "      <td>154.2260</td>\n",
       "    </tr>\n",
       "  </tbody>\n",
       "</table>\n",
       "</div>"
      ],
      "text/plain": [
       "             timestamp  MpKrakBujaka-PM10-1g   Weather  Temp(C)  Wind(m/s)  \\\n",
       "0  2017-01-01 01:00:00               392.428  Ice fog.     -6.0        1.0   \n",
       "1  2017-01-01 02:00:00               258.667  Ice fog.     -7.0        2.0   \n",
       "2  2017-01-01 03:00:00               211.760  Ice fog.     -4.0        3.0   \n",
       "3  2017-01-01 04:00:00               191.820  Ice fog.     -7.0        3.0   \n",
       "4  2017-01-01 05:00:00               187.663  Ice fog.     -6.0        3.0   \n",
       "\n",
       "   Direction(deg)  Humidity  Barometer(mbar)  PM10_Forecast_3h  \\\n",
       "0             0.0      0.93            10.24           191.820   \n",
       "1           190.0      0.93            10.24           187.663   \n",
       "2           200.0      0.80            10.23           183.347   \n",
       "3           210.0      0.86            10.22           153.062   \n",
       "4           200.0      0.80            10.22           148.309   \n",
       "\n",
       "   PM10_Forecast_8h  PM10_Forecast_12h  \n",
       "0          153.0490            81.3565  \n",
       "1          127.6300            68.4491  \n",
       "2          119.8900            83.1521  \n",
       "3          108.1610           114.0370  \n",
       "4           81.3565           154.2260  "
      ]
     },
     "execution_count": 16,
     "metadata": {},
     "output_type": "execute_result"
    }
   ],
   "source": [
    "data = pd.read_csv(\"./data_preprocessed/2017-2018_single_MpKrakBujaka_with_forecast3_8_12h_cleared.csv\")\n",
    "\n",
    "data.head(5)"
   ]
  },
  {
   "cell_type": "code",
   "execution_count": 17,
   "metadata": {},
   "outputs": [],
   "source": [
    "X = data[[\"MpKrakBujaka-PM10-1g\",\"Direction(deg)\",\"Temp(C)\",\"Wind(m/s)\",\"Humidity\",\"Barometer(mbar)\"]]\n",
    "\n",
    "y = data[[\"PM10_Forecast_3h\",\"PM10_Forecast_8h\",\"PM10_Forecast_12h\"]]"
   ]
  },
  {
   "cell_type": "code",
   "execution_count": 18,
   "metadata": {},
   "outputs": [
    {
     "data": {
      "text/html": [
       "<div>\n",
       "<style scoped>\n",
       "    .dataframe tbody tr th:only-of-type {\n",
       "        vertical-align: middle;\n",
       "    }\n",
       "\n",
       "    .dataframe tbody tr th {\n",
       "        vertical-align: top;\n",
       "    }\n",
       "\n",
       "    .dataframe thead th {\n",
       "        text-align: right;\n",
       "    }\n",
       "</style>\n",
       "<table border=\"1\" class=\"dataframe\">\n",
       "  <thead>\n",
       "    <tr style=\"text-align: right;\">\n",
       "      <th></th>\n",
       "      <th>MpKrakBujaka-PM10-1g</th>\n",
       "      <th>Direction(deg)</th>\n",
       "      <th>Temp(C)</th>\n",
       "      <th>Wind(m/s)</th>\n",
       "      <th>Humidity</th>\n",
       "      <th>Barometer(mbar)</th>\n",
       "    </tr>\n",
       "  </thead>\n",
       "  <tbody>\n",
       "    <tr>\n",
       "      <th>0</th>\n",
       "      <td>7.769326</td>\n",
       "      <td>-1.225402</td>\n",
       "      <td>-1.614220</td>\n",
       "      <td>-1.089081</td>\n",
       "      <td>0.939750</td>\n",
       "      <td>1.009646</td>\n",
       "    </tr>\n",
       "    <tr>\n",
       "      <th>1</th>\n",
       "      <td>4.791464</td>\n",
       "      <td>0.468566</td>\n",
       "      <td>-1.718042</td>\n",
       "      <td>-0.640536</td>\n",
       "      <td>0.939750</td>\n",
       "      <td>1.009646</td>\n",
       "    </tr>\n",
       "    <tr>\n",
       "      <th>2</th>\n",
       "      <td>3.747194</td>\n",
       "      <td>0.557722</td>\n",
       "      <td>-1.406576</td>\n",
       "      <td>-0.191990</td>\n",
       "      <td>0.184622</td>\n",
       "      <td>0.881477</td>\n",
       "    </tr>\n",
       "    <tr>\n",
       "      <th>3</th>\n",
       "      <td>3.303279</td>\n",
       "      <td>0.646878</td>\n",
       "      <td>-1.718042</td>\n",
       "      <td>-0.191990</td>\n",
       "      <td>0.533143</td>\n",
       "      <td>0.753308</td>\n",
       "    </tr>\n",
       "    <tr>\n",
       "      <th>4</th>\n",
       "      <td>3.210733</td>\n",
       "      <td>0.557722</td>\n",
       "      <td>-1.614220</td>\n",
       "      <td>-0.191990</td>\n",
       "      <td>0.184622</td>\n",
       "      <td>0.753308</td>\n",
       "    </tr>\n",
       "  </tbody>\n",
       "</table>\n",
       "</div>"
      ],
      "text/plain": [
       "   MpKrakBujaka-PM10-1g  Direction(deg)   Temp(C)  Wind(m/s)  Humidity  \\\n",
       "0              7.769326       -1.225402 -1.614220  -1.089081  0.939750   \n",
       "1              4.791464        0.468566 -1.718042  -0.640536  0.939750   \n",
       "2              3.747194        0.557722 -1.406576  -0.191990  0.184622   \n",
       "3              3.303279        0.646878 -1.718042  -0.191990  0.533143   \n",
       "4              3.210733        0.557722 -1.614220  -0.191990  0.184622   \n",
       "\n",
       "   Barometer(mbar)  \n",
       "0         1.009646  \n",
       "1         1.009646  \n",
       "2         0.881477  \n",
       "3         0.753308  \n",
       "4         0.753308  "
      ]
     },
     "execution_count": 18,
     "metadata": {},
     "output_type": "execute_result"
    }
   ],
   "source": [
    "scaler = StandardScaler()\n",
    "X_scale = pd.DataFrame(scaler.fit_transform(X),columns=X.columns)\n",
    "X_scale.head()"
   ]
  },
  {
   "cell_type": "code",
   "execution_count": 19,
   "metadata": {},
   "outputs": [
    {
     "data": {
      "text/html": [
       "<div>\n",
       "<style scoped>\n",
       "    .dataframe tbody tr th:only-of-type {\n",
       "        vertical-align: middle;\n",
       "    }\n",
       "\n",
       "    .dataframe tbody tr th {\n",
       "        vertical-align: top;\n",
       "    }\n",
       "\n",
       "    .dataframe thead th {\n",
       "        text-align: right;\n",
       "    }\n",
       "</style>\n",
       "<table border=\"1\" class=\"dataframe\">\n",
       "  <thead>\n",
       "    <tr style=\"text-align: right;\">\n",
       "      <th></th>\n",
       "      <th>0</th>\n",
       "      <th>1</th>\n",
       "      <th>2</th>\n",
       "      <th>3</th>\n",
       "      <th>4</th>\n",
       "    </tr>\n",
       "  </thead>\n",
       "  <tbody>\n",
       "    <tr>\n",
       "      <th>0</th>\n",
       "      <td>6.096014</td>\n",
       "      <td>0.017752</td>\n",
       "      <td>-1.500081</td>\n",
       "      <td>4.665515</td>\n",
       "      <td>-0.524698</td>\n",
       "    </tr>\n",
       "    <tr>\n",
       "      <th>1</th>\n",
       "      <td>3.912358</td>\n",
       "      <td>1.169335</td>\n",
       "      <td>-1.318329</td>\n",
       "      <td>2.741607</td>\n",
       "      <td>-1.106312</td>\n",
       "    </tr>\n",
       "    <tr>\n",
       "      <th>2</th>\n",
       "      <td>2.682536</td>\n",
       "      <td>1.011898</td>\n",
       "      <td>-1.421598</td>\n",
       "      <td>2.436180</td>\n",
       "      <td>-0.717153</td>\n",
       "    </tr>\n",
       "    <tr>\n",
       "      <th>3</th>\n",
       "      <td>2.700099</td>\n",
       "      <td>1.355238</td>\n",
       "      <td>-1.107641</td>\n",
       "      <td>2.028863</td>\n",
       "      <td>-0.698466</td>\n",
       "    </tr>\n",
       "    <tr>\n",
       "      <th>4</th>\n",
       "      <td>2.484875</td>\n",
       "      <td>1.124829</td>\n",
       "      <td>-1.212678</td>\n",
       "      <td>2.121761</td>\n",
       "      <td>-0.584925</td>\n",
       "    </tr>\n",
       "  </tbody>\n",
       "</table>\n",
       "</div>"
      ],
      "text/plain": [
       "          0         1         2         3         4\n",
       "0  6.096014  0.017752 -1.500081  4.665515 -0.524698\n",
       "1  3.912358  1.169335 -1.318329  2.741607 -1.106312\n",
       "2  2.682536  1.011898 -1.421598  2.436180 -0.717153\n",
       "3  2.700099  1.355238 -1.107641  2.028863 -0.698466\n",
       "4  2.484875  1.124829 -1.212678  2.121761 -0.584925"
      ]
     },
     "execution_count": 19,
     "metadata": {},
     "output_type": "execute_result"
    }
   ],
   "source": [
    "from sklearn.decomposition import PCA\n",
    "\n",
    "pca = PCA(n_components=5)\n",
    "\n",
    "X_pca = pca.fit_transform(X_scale)\n",
    "pd.DataFrame(data=X_pca).head()"
   ]
  },
  {
   "cell_type": "code",
   "execution_count": 20,
   "metadata": {},
   "outputs": [],
   "source": [
    "train_X, test_X, train_y, test_y = train_test_split(X_pca, y, test_size=0.1,\n",
    "                                                    random_state=0)"
   ]
  },
  {
   "cell_type": "raw",
   "metadata": {},
   "source": [
    "model_bujaka = Sequential()\n",
    "model_bujaka.add(Dense(12, input_dim=train_X.shape[1], activation='sigmoid'))\n",
    "model_bujaka.add(Dense(8, activation='sigmoid'))\n",
    "model_bujaka.add(Dense(3, activation='linear'))\n",
    "\n",
    "model_bujaka.compile(loss='mean_squared_error', optimizer='adam', metrics=['mse', 'mae'])"
   ]
  },
  {
   "cell_type": "raw",
   "metadata": {},
   "source": [
    "model_bujaka.fit(train_X, train_y, epochs=10, batch_size=20, verbose = 1)"
   ]
  },
  {
   "cell_type": "code",
   "execution_count": 21,
   "metadata": {},
   "outputs": [
    {
     "name": "stdout",
     "output_type": "stream",
     "text": [
      "Epoch 1/50\n",
      "14893/14893 [==============================] - 2s 106us/step - loss: 3519.2916 - mse: 3519.2920 - mae: 39.2535\n",
      "Epoch 2/50\n",
      "14893/14893 [==============================] - 1s 83us/step - loss: 3049.4932 - mse: 3049.4915 - mae: 33.0935\n",
      "Epoch 3/50\n",
      "14893/14893 [==============================] - 1s 93us/step - loss: 2677.0811 - mse: 2677.0786 - mae: 28.3611\n",
      "Epoch 4/50\n",
      "14893/14893 [==============================] - 1s 90us/step - loss: 2423.6661 - mse: 2423.6663 - mae: 25.9195\n",
      "Epoch 5/50\n",
      "14893/14893 [==============================] - 1s 86us/step - loss: 2240.8369 - mse: 2240.8364 - mae: 24.7189\n",
      "Epoch 6/50\n",
      "14893/14893 [==============================] - 1s 91us/step - loss: 2090.0715 - mse: 2090.0713 - mae: 23.6150\n",
      "Epoch 7/50\n",
      "14893/14893 [==============================] - 1s 90us/step - loss: 1956.9180 - mse: 1956.9186 - mae: 22.6177\n",
      "Epoch 8/50\n",
      "14893/14893 [==============================] - 1s 94us/step - loss: 1832.6247 - mse: 1832.6249 - mae: 21.6518\n",
      "Epoch 9/50\n",
      "14893/14893 [==============================] - 2s 101us/step - loss: 1728.8591 - mse: 1728.8588 - mae: 21.0483\n",
      "Epoch 10/50\n",
      "14893/14893 [==============================] - 2s 110us/step - loss: 1641.6605 - mse: 1641.6617 - mae: 20.6090\n",
      "Epoch 11/50\n",
      "14893/14893 [==============================] - 1s 91us/step - loss: 1568.3925 - mse: 1568.3915 - mae: 20.3003\n",
      "Epoch 12/50\n",
      "14893/14893 [==============================] - 1s 92us/step - loss: 1506.3898 - mse: 1506.3898 - mae: 20.0425\n",
      "Epoch 13/50\n",
      "14893/14893 [==============================] - 1s 86us/step - loss: 1453.4219 - mse: 1453.4218 - mae: 19.8405\n",
      "Epoch 14/50\n",
      "14893/14893 [==============================] - 1s 87us/step - loss: 1408.4833 - mse: 1408.4834 - mae: 19.6915\n",
      "Epoch 15/50\n",
      "14893/14893 [==============================] - 1s 85us/step - loss: 1370.0350 - mse: 1370.0347 - mae: 19.5383\n",
      "Epoch 16/50\n",
      "14893/14893 [==============================] - 1s 96us/step - loss: 1336.6127 - mse: 1336.6119 - mae: 19.4241\n",
      "Epoch 17/50\n",
      "14893/14893 [==============================] - 1s 87us/step - loss: 1306.9053 - mse: 1306.9052 - mae: 19.3031\n",
      "Epoch 18/50\n",
      "14893/14893 [==============================] - 2s 102us/step - loss: 1280.2268 - mse: 1280.2257 - mae: 19.2233\n",
      "Epoch 19/50\n",
      "14893/14893 [==============================] - 1s 92us/step - loss: 1256.2246 - mse: 1256.2251 - mae: 19.1426\n",
      "Epoch 20/50\n",
      "14893/14893 [==============================] - 1s 93us/step - loss: 1234.5108 - mse: 1234.5111 - mae: 19.0977\n",
      "Epoch 21/50\n",
      "14893/14893 [==============================] - 1s 84us/step - loss: 1214.2262 - mse: 1214.2277 - mae: 19.0056\n",
      "Epoch 22/50\n",
      "14893/14893 [==============================] - 1s 96us/step - loss: 1194.5786 - mse: 1194.5787 - mae: 18.9191\n",
      "Epoch 23/50\n",
      "14893/14893 [==============================] - 1s 91us/step - loss: 1175.7688 - mse: 1175.7687 - mae: 18.8573\n",
      "Epoch 24/50\n",
      "14893/14893 [==============================] - 2s 101us/step - loss: 1158.0424 - mse: 1158.0433 - mae: 18.7573\n",
      "Epoch 25/50\n",
      "14893/14893 [==============================] - 1s 97us/step - loss: 1140.8513 - mse: 1140.8510 - mae: 18.6860\n",
      "Epoch 26/50\n",
      "14893/14893 [==============================] - 1s 89us/step - loss: 1124.6320 - mse: 1124.6331 - mae: 18.6260\n",
      "Epoch 27/50\n",
      "14893/14893 [==============================] - 1s 99us/step - loss: 1109.1570 - mse: 1109.1570 - mae: 18.5441\n",
      "Epoch 28/50\n",
      "14893/14893 [==============================] - 1s 95us/step - loss: 1094.6113 - mse: 1094.6115 - mae: 18.4817\n",
      "Epoch 29/50\n",
      "14893/14893 [==============================] - 1s 88us/step - loss: 1081.2375 - mse: 1081.2375 - mae: 18.4108\n",
      "Epoch 30/50\n",
      "14893/14893 [==============================] - 1s 90us/step - loss: 1068.7857 - mse: 1068.7855 - mae: 18.3629\n",
      "Epoch 31/50\n",
      "14893/14893 [==============================] - 1s 86us/step - loss: 1057.0847 - mse: 1057.0846 - mae: 18.3049\n",
      "Epoch 32/50\n",
      "14893/14893 [==============================] - 1s 94us/step - loss: 1046.0406 - mse: 1046.0406 - mae: 18.2635\n",
      "Epoch 33/50\n",
      "14893/14893 [==============================] - 1s 99us/step - loss: 1035.9012 - mse: 1035.9017 - mae: 18.2330\n",
      "Epoch 34/50\n",
      "14893/14893 [==============================] - 1s 88us/step - loss: 1026.2327 - mse: 1026.2325 - mae: 18.2004\n",
      "Epoch 35/50\n",
      "14893/14893 [==============================] - 1s 95us/step - loss: 1017.2408 - mse: 1017.2415 - mae: 18.1523\n",
      "Epoch 36/50\n",
      "14893/14893 [==============================] - 1s 89us/step - loss: 1008.6269 - mse: 1008.6273 - mae: 18.1064\n",
      "Epoch 37/50\n",
      "14893/14893 [==============================] - 1s 90us/step - loss: 1000.6394 - mse: 1000.6390 - mae: 18.0751\n",
      "Epoch 38/50\n",
      "14893/14893 [==============================] - 1s 87us/step - loss: 993.1125 - mse: 993.1124 - mae: 18.0509\n",
      "Epoch 39/50\n",
      "14893/14893 [==============================] - 1s 87us/step - loss: 986.0693 - mse: 986.0693 - mae: 18.0560\n",
      "Epoch 40/50\n",
      "14893/14893 [==============================] - 1s 93us/step - loss: 979.5426 - mse: 979.5426 - mae: 17.9878\n",
      "Epoch 41/50\n",
      "14893/14893 [==============================] - 1s 101us/step - loss: 973.0072 - mse: 973.0074 - mae: 17.9829\n",
      "Epoch 42/50\n",
      "14893/14893 [==============================] - 1s 96us/step - loss: 967.4300 - mse: 967.4297 - mae: 17.9499\n",
      "Epoch 43/50\n",
      "14893/14893 [==============================] - 1s 89us/step - loss: 961.5634 - mse: 961.5635 - mae: 17.9292\n",
      "Epoch 44/50\n",
      "14893/14893 [==============================] - ETA: 0s - loss: 957.6973 - mse: 957.6968 - mae: 17.90 - 1s 99us/step - loss: 956.2967 - mse: 956.2961 - mae: 17.9157\n",
      "Epoch 45/50\n",
      "14893/14893 [==============================] - 1s 85us/step - loss: 951.1216 - mse: 951.1213 - mae: 17.8983\n",
      "Epoch 46/50\n",
      "14893/14893 [==============================] - 1s 85us/step - loss: 945.8597 - mse: 945.8594 - mae: 17.8817\n",
      "Epoch 47/50\n",
      "14893/14893 [==============================] - 1s 92us/step - loss: 941.5633 - mse: 941.5631 - mae: 17.8593\n",
      "Epoch 48/50\n",
      "14893/14893 [==============================] - 1s 91us/step - loss: 936.8705 - mse: 936.8706 - mae: 17.8236\n",
      "Epoch 49/50\n",
      "14893/14893 [==============================] - 1s 90us/step - loss: 933.1511 - mse: 933.1515 - mae: 17.8352 \n",
      "Epoch 50/50\n",
      "14893/14893 [==============================] - 1s 88us/step - loss: 929.1364 - mse: 929.1366 - mae: 17.8112\n"
     ]
    }
   ],
   "source": [
    "model_bujaka = create_model()\n",
    "history = model_bujaka.fit(train_X, train_y, epochs=50, batch_size=20, verbose = 1)"
   ]
  },
  {
   "cell_type": "code",
   "execution_count": 22,
   "metadata": {},
   "outputs": [
    {
     "data": {
      "image/png": "[encoded data removed]",
      "text/plain": [
       "<Figure size 432x288 with 1 Axes>"
      ]
     },
     "metadata": {
      "needs_background": "light"
     },
     "output_type": "display_data"
    }
   ],
   "source": [
    "hist_k = 'mae'\n",
    "plt.plot(history.history[hist_k])\n",
    "plt.title(\"model {}\".format(hist_k))\n",
    "plt.ylabel(hist_k)\n",
    "plt.xlabel('epoch')\n",
    "plt.legend(['train', 'test'], loc='upper left')\n",
    "plt.show()"
   ]
  },
  {
   "cell_type": "code",
   "execution_count": 23,
   "metadata": {},
   "outputs": [
    {
     "data": {
      "text/plain": [
       "30.87187713732838"
      ]
     },
     "execution_count": 23,
     "metadata": {},
     "output_type": "execute_result"
    }
   ],
   "source": [
    "y_pred = model_bujaka.predict(test_X)\n",
    "rms = sqrt(mean_squared_error(test_y, y_pred))\n",
    "rms"
   ]
  },
  {
   "cell_type": "markdown",
   "metadata": {},
   "source": [
    "### Podsumowanie:"
   ]
  },
  {
   "cell_type": "code",
   "execution_count": 25,
   "metadata": {},
   "outputs": [
    {
     "data": {
      "text/html": [
       "<div>\n",
       "<style scoped>\n",
       "    .dataframe tbody tr th:only-of-type {\n",
       "        vertical-align: middle;\n",
       "    }\n",
       "\n",
       "    .dataframe tbody tr th {\n",
       "        vertical-align: top;\n",
       "    }\n",
       "\n",
       "    .dataframe thead th {\n",
       "        text-align: right;\n",
       "    }\n",
       "</style>\n",
       "<table border=\"1\" class=\"dataframe\">\n",
       "  <thead>\n",
       "    <tr style=\"text-align: right;\">\n",
       "      <th></th>\n",
       "      <th>PM10_Forecast_3h</th>\n",
       "      <th>PM10_Forecast_8h</th>\n",
       "      <th>PM10_Forecast_12h</th>\n",
       "    </tr>\n",
       "  </thead>\n",
       "  <tbody>\n",
       "    <tr>\n",
       "      <th>0</th>\n",
       "      <td>142.440475</td>\n",
       "      <td>129.665863</td>\n",
       "      <td>123.915710</td>\n",
       "    </tr>\n",
       "    <tr>\n",
       "      <th>1</th>\n",
       "      <td>113.755875</td>\n",
       "      <td>104.758415</td>\n",
       "      <td>101.219650</td>\n",
       "    </tr>\n",
       "    <tr>\n",
       "      <th>2</th>\n",
       "      <td>143.349152</td>\n",
       "      <td>130.452484</td>\n",
       "      <td>124.655289</td>\n",
       "    </tr>\n",
       "    <tr>\n",
       "      <th>3</th>\n",
       "      <td>156.225266</td>\n",
       "      <td>141.640869</td>\n",
       "      <td>134.848633</td>\n",
       "    </tr>\n",
       "    <tr>\n",
       "      <th>4</th>\n",
       "      <td>103.335884</td>\n",
       "      <td>95.715050</td>\n",
       "      <td>92.930077</td>\n",
       "    </tr>\n",
       "  </tbody>\n",
       "</table>\n",
       "</div>"
      ],
      "text/plain": [
       "   PM10_Forecast_3h  PM10_Forecast_8h  PM10_Forecast_12h\n",
       "0        142.440475        129.665863         123.915710\n",
       "1        113.755875        104.758415         101.219650\n",
       "2        143.349152        130.452484         124.655289\n",
       "3        156.225266        141.640869         134.848633\n",
       "4        103.335884         95.715050          92.930077"
      ]
     },
     "execution_count": 25,
     "metadata": {},
     "output_type": "execute_result"
    }
   ],
   "source": [
    "_, X_test_orig, _, y_test_orig = train_test_split(X, y, test_size=0.1,\n",
    "                                                    random_state=0)\n",
    "\n",
    "y_test_orig = y_test_orig.sort_index()\n",
    "X_test_orig = X_test_orig.sort_index()\n",
    "\n",
    "X_test_scaler = pd.DataFrame(scaler.transform(X_test_orig),columns=X_test_orig.columns)\n",
    "X_test_pca = pca.transform(X_test_scaler)\n",
    "\n",
    "y_pred = model_bujaka.predict(X_test_pca)\n",
    "y_pred_df = pd.DataFrame(y_pred,columns=y_test_orig.columns)\n",
    "y_pred_df.head()"
   ]
  },
  {
   "cell_type": "code",
   "execution_count": 26,
   "metadata": {
    "scrolled": false
   },
   "outputs": [
    {
     "data": {
      "image/png": "[encoded data removed]",
      "text/plain": [
       "<Figure size 432x288 with 1 Axes>"
      ]
     },
     "metadata": {
      "needs_background": "light"
     },
     "output_type": "display_data"
    },
    {
     "data": {
      "image/png": "[encoded data removed]",
      "text/plain": [
       "<Figure size 432x288 with 1 Axes>"
      ]
     },
     "metadata": {
      "needs_background": "light"
     },
     "output_type": "display_data"
    },
    {
     "data": {
      "image/png": "[encoded data removed]",
      "text/plain": [
       "<Figure size 432x288 with 1 Axes>"
      ]
     },
     "metadata": {
      "needs_background": "light"
     },
     "output_type": "display_data"
    }
   ],
   "source": [
    "for n in (3, 8, 12):\n",
    "    show_y_pred_test(y_pred_df, y_test_orig, n=n, size=50, station_name=\"ul. Bujaka\")"
   ]
  },
  {
   "cell_type": "code",
   "execution_count": null,
   "metadata": {},
   "outputs": [],
   "source": []
  }
 ],
 "metadata": {
  "kernelspec": {
   "display_name": "Python 3",
   "language": "python",
   "name": "python3"
  },
  "language_info": {
   "codemirror_mode": {
    "name": "ipython",
    "version": 3
   },
   "file_extension": ".py",
   "mimetype": "text/x-python",
   "name": "python",
   "nbconvert_exporter": "python",
   "pygments_lexer": "ipython3",
   "version": "3.6.10"
  }
 },
 "nbformat": 4,
 "nbformat_minor": 2
}
