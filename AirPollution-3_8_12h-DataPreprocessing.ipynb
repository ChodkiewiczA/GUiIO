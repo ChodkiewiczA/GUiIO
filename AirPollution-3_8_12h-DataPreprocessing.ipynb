{
 "cells": [
  {
   "cell_type": "markdown",
   "metadata": {},
   "source": [
    "# Przygotowanie i obróbka danych o zanieczyszczeniu powietrza w Krakowie"
   ]
  },
  {
   "cell_type": "markdown",
   "metadata": {},
   "source": [
    " Źródło: http://powietrze.gios.gov.pl/pjp/archives"
   ]
  },
  {
   "cell_type": "code",
   "execution_count": 4,
   "metadata": {},
   "outputs": [
    {
     "name": "stdout",
     "output_type": "stream",
     "text": [
      "Requirement already satisfied: xlrd in c:\\users\\dorotka\\anaconda3\\envs\\dataanalitics\\lib\\site-packages (1.2.0)\n"
     ]
    }
   ],
   "source": [
    "!pip install xlrd "
   ]
  },
  {
   "cell_type": "code",
   "execution_count": 1,
   "metadata": {},
   "outputs": [],
   "source": [
    "import pandas as pd \n",
    "import numpy as np\n",
    "\n",
    "data_2018 = pd.read_excel(\"2018_PM10_1g.xlsx\")\n",
    "data_2017 = pd.read_excel(\"2017_PM10_1g.xlsx\")"
   ]
  },
  {
   "cell_type": "code",
   "execution_count": 2,
   "metadata": {},
   "outputs": [],
   "source": [
    "data = pd.concat([data_2017, data_2018])"
   ]
  },
  {
   "cell_type": "code",
   "execution_count": 3,
   "metadata": {},
   "outputs": [],
   "source": [
    "data = data.set_index(\"timestamp\")"
   ]
  },
  {
   "cell_type": "code",
   "execution_count": 4,
   "metadata": {},
   "outputs": [
    {
     "data": {
      "text/html": [
       "<div>\n",
       "<style scoped>\n",
       "    .dataframe tbody tr th:only-of-type {\n",
       "        vertical-align: middle;\n",
       "    }\n",
       "\n",
       "    .dataframe tbody tr th {\n",
       "        vertical-align: top;\n",
       "    }\n",
       "\n",
       "    .dataframe thead th {\n",
       "        text-align: right;\n",
       "    }\n",
       "</style>\n",
       "<table border=\"1\" class=\"dataframe\">\n",
       "  <thead>\n",
       "    <tr style=\"text-align: right;\">\n",
       "      <th></th>\n",
       "      <th>MpKrakAlKras-PM10-1g</th>\n",
       "      <th>MpKrakBujaka-PM10-1g</th>\n",
       "      <th>MpKrakBulwar-PM10-1g</th>\n",
       "      <th>MpKrakDietla-PM10-1g</th>\n",
       "      <th>MpKrakOsPias-PM10-1g</th>\n",
       "      <th>MpKrakTelime-PM10-1g</th>\n",
       "      <th>MpKrakWadow-PM10-1g</th>\n",
       "      <th>MpKrakZloRog-PM10-1g</th>\n",
       "    </tr>\n",
       "    <tr>\n",
       "      <th>timestamp</th>\n",
       "      <th></th>\n",
       "      <th></th>\n",
       "      <th></th>\n",
       "      <th></th>\n",
       "      <th></th>\n",
       "      <th></th>\n",
       "      <th></th>\n",
       "      <th></th>\n",
       "    </tr>\n",
       "  </thead>\n",
       "  <tbody>\n",
       "    <tr>\n",
       "      <th>2017-01-01 01:00:00</th>\n",
       "      <td>213.733</td>\n",
       "      <td>392.428</td>\n",
       "      <td>188.308</td>\n",
       "      <td>236.818</td>\n",
       "      <td>141.186</td>\n",
       "      <td>280.933</td>\n",
       "      <td>NaN</td>\n",
       "      <td>NaN</td>\n",
       "    </tr>\n",
       "    <tr>\n",
       "      <th>2017-01-01 02:00:00</th>\n",
       "      <td>213.868</td>\n",
       "      <td>258.667</td>\n",
       "      <td>193.168</td>\n",
       "      <td>179.874</td>\n",
       "      <td>111.482</td>\n",
       "      <td>175.998</td>\n",
       "      <td>NaN</td>\n",
       "      <td>NaN</td>\n",
       "    </tr>\n",
       "    <tr>\n",
       "      <th>2017-01-01 03:00:00</th>\n",
       "      <td>221.923</td>\n",
       "      <td>211.760</td>\n",
       "      <td>175.267</td>\n",
       "      <td>185.302</td>\n",
       "      <td>116.691</td>\n",
       "      <td>153.393</td>\n",
       "      <td>NaN</td>\n",
       "      <td>NaN</td>\n",
       "    </tr>\n",
       "    <tr>\n",
       "      <th>2017-01-01 04:00:00</th>\n",
       "      <td>244.690</td>\n",
       "      <td>191.820</td>\n",
       "      <td>179.422</td>\n",
       "      <td>190.668</td>\n",
       "      <td>121.213</td>\n",
       "      <td>137.465</td>\n",
       "      <td>NaN</td>\n",
       "      <td>NaN</td>\n",
       "    </tr>\n",
       "    <tr>\n",
       "      <th>2017-01-01 05:00:00</th>\n",
       "      <td>224.673</td>\n",
       "      <td>187.663</td>\n",
       "      <td>158.296</td>\n",
       "      <td>179.161</td>\n",
       "      <td>112.461</td>\n",
       "      <td>143.826</td>\n",
       "      <td>NaN</td>\n",
       "      <td>NaN</td>\n",
       "    </tr>\n",
       "  </tbody>\n",
       "</table>\n",
       "</div>"
      ],
      "text/plain": [
       "                     MpKrakAlKras-PM10-1g  MpKrakBujaka-PM10-1g  \\\n",
       "timestamp                                                         \n",
       "2017-01-01 01:00:00               213.733               392.428   \n",
       "2017-01-01 02:00:00               213.868               258.667   \n",
       "2017-01-01 03:00:00               221.923               211.760   \n",
       "2017-01-01 04:00:00               244.690               191.820   \n",
       "2017-01-01 05:00:00               224.673               187.663   \n",
       "\n",
       "                     MpKrakBulwar-PM10-1g  MpKrakDietla-PM10-1g  \\\n",
       "timestamp                                                         \n",
       "2017-01-01 01:00:00               188.308               236.818   \n",
       "2017-01-01 02:00:00               193.168               179.874   \n",
       "2017-01-01 03:00:00               175.267               185.302   \n",
       "2017-01-01 04:00:00               179.422               190.668   \n",
       "2017-01-01 05:00:00               158.296               179.161   \n",
       "\n",
       "                     MpKrakOsPias-PM10-1g  MpKrakTelime-PM10-1g  \\\n",
       "timestamp                                                         \n",
       "2017-01-01 01:00:00               141.186               280.933   \n",
       "2017-01-01 02:00:00               111.482               175.998   \n",
       "2017-01-01 03:00:00               116.691               153.393   \n",
       "2017-01-01 04:00:00               121.213               137.465   \n",
       "2017-01-01 05:00:00               112.461               143.826   \n",
       "\n",
       "                     MpKrakWadow-PM10-1g  MpKrakZloRog-PM10-1g  \n",
       "timestamp                                                       \n",
       "2017-01-01 01:00:00                  NaN                   NaN  \n",
       "2017-01-01 02:00:00                  NaN                   NaN  \n",
       "2017-01-01 03:00:00                  NaN                   NaN  \n",
       "2017-01-01 04:00:00                  NaN                   NaN  \n",
       "2017-01-01 05:00:00                  NaN                   NaN  "
      ]
     },
     "execution_count": 4,
     "metadata": {},
     "output_type": "execute_result"
    }
   ],
   "source": [
    "data.head()"
   ]
  },
  {
   "cell_type": "code",
   "execution_count": 5,
   "metadata": {},
   "outputs": [
    {
     "data": {
      "text/plain": [
       "['MpKrakAlKras-PM10-1g',\n",
       " 'MpKrakBujaka-PM10-1g',\n",
       " 'MpKrakBulwar-PM10-1g',\n",
       " 'MpKrakDietla-PM10-1g',\n",
       " 'MpKrakOsPias-PM10-1g',\n",
       " 'MpKrakTelime-PM10-1g',\n",
       " 'MpKrakWadow-PM10-1g',\n",
       " 'MpKrakZloRog-PM10-1g']"
      ]
     },
     "execution_count": 5,
     "metadata": {},
     "output_type": "execute_result"
    }
   ],
   "source": [
    "krk_colums = [col_name for col_name in data.columns if 'krak' in col_name.lower()]\n",
    "krk_colums"
   ]
  },
  {
   "cell_type": "markdown",
   "metadata": {},
   "source": [
    "### W dalszym etapie analizowane będą dane dla stacji badawczech z Al. Krasickiego i ul. Bujaka w Krakowie. "
   ]
  },
  {
   "cell_type": "code",
   "execution_count": 6,
   "metadata": {},
   "outputs": [],
   "source": [
    "chosen_stations = ['MpKrakAlKras-PM10-1g', 'MpKrakBujaka-PM10-1g']"
   ]
  },
  {
   "cell_type": "code",
   "execution_count": 7,
   "metadata": {},
   "outputs": [
    {
     "data": {
      "text/html": [
       "<div>\n",
       "<style scoped>\n",
       "    .dataframe tbody tr th:only-of-type {\n",
       "        vertical-align: middle;\n",
       "    }\n",
       "\n",
       "    .dataframe tbody tr th {\n",
       "        vertical-align: top;\n",
       "    }\n",
       "\n",
       "    .dataframe thead th {\n",
       "        text-align: right;\n",
       "    }\n",
       "</style>\n",
       "<table border=\"1\" class=\"dataframe\">\n",
       "  <thead>\n",
       "    <tr style=\"text-align: right;\">\n",
       "      <th></th>\n",
       "      <th>MpKrakAlKras-PM10-1g</th>\n",
       "      <th>MpKrakBujaka-PM10-1g</th>\n",
       "    </tr>\n",
       "    <tr>\n",
       "      <th>timestamp</th>\n",
       "      <th></th>\n",
       "      <th></th>\n",
       "    </tr>\n",
       "  </thead>\n",
       "  <tbody>\n",
       "    <tr>\n",
       "      <th>2017-01-01 01:00:00</th>\n",
       "      <td>213.733</td>\n",
       "      <td>392.428</td>\n",
       "    </tr>\n",
       "    <tr>\n",
       "      <th>2017-01-01 02:00:00</th>\n",
       "      <td>213.868</td>\n",
       "      <td>258.667</td>\n",
       "    </tr>\n",
       "    <tr>\n",
       "      <th>2017-01-01 03:00:00</th>\n",
       "      <td>221.923</td>\n",
       "      <td>211.760</td>\n",
       "    </tr>\n",
       "    <tr>\n",
       "      <th>2017-01-01 04:00:00</th>\n",
       "      <td>244.690</td>\n",
       "      <td>191.820</td>\n",
       "    </tr>\n",
       "    <tr>\n",
       "      <th>2017-01-01 05:00:00</th>\n",
       "      <td>224.673</td>\n",
       "      <td>187.663</td>\n",
       "    </tr>\n",
       "  </tbody>\n",
       "</table>\n",
       "</div>"
      ],
      "text/plain": [
       "                     MpKrakAlKras-PM10-1g  MpKrakBujaka-PM10-1g\n",
       "timestamp                                                      \n",
       "2017-01-01 01:00:00               213.733               392.428\n",
       "2017-01-01 02:00:00               213.868               258.667\n",
       "2017-01-01 03:00:00               221.923               211.760\n",
       "2017-01-01 04:00:00               244.690               191.820\n",
       "2017-01-01 05:00:00               224.673               187.663"
      ]
     },
     "execution_count": 7,
     "metadata": {},
     "output_type": "execute_result"
    }
   ],
   "source": [
    "df_krk_chosen = data.loc[:, chosen_stations]\n",
    "df_krk_chosen.head()"
   ]
  },
  {
   "cell_type": "markdown",
   "metadata": {},
   "source": [
    "#### Analiza luk w danych: "
   ]
  },
  {
   "cell_type": "code",
   "execution_count": 20,
   "metadata": {},
   "outputs": [],
   "source": [
    "def get_gaps_table(df_gap_index):\n",
    "    no_gap = 1\n",
    "    len_gap = 1\n",
    "    prev_id = 0\n",
    "    no_gaps = []\n",
    "    len_gaps = []\n",
    "    start_ids = []\n",
    "    end_ids = []\n",
    "\n",
    "    for i in index:\n",
    "        if (prev_id+1==df_index.index(i)):\n",
    "            len_gap += 1\n",
    "        else:\n",
    "            rec = {}\n",
    "    #         print(len_gap, no_gap, prev_id)\n",
    "            no_gaps.append(no_gap)\n",
    "            len_gaps.append(len_gap)\n",
    "            start_ids.append(prev_id-len_gap)\n",
    "            end_ids.append(prev_id)\n",
    "            len_gap=1\n",
    "            no_gap += 1\n",
    "\n",
    "        prev_id = df_index.index(i)\n",
    "\n",
    "    df_gaps = pd.DataFrame().from_dict({'no_gaps':no_gaps, 'len_gaps':len_gaps, 'start_ids':start_ids, 'end_ids':end_ids})\n",
    "    return df_gaps"
   ]
  },
  {
   "cell_type": "code",
   "execution_count": 25,
   "metadata": {},
   "outputs": [
    {
     "name": "stdout",
     "output_type": "stream",
     "text": [
      "Data Gaps stats for station: MpKrakAlKras-PM10-1g\n"
     ]
    },
    {
     "data": {
      "text/html": [
       "<div>\n",
       "<style scoped>\n",
       "    .dataframe tbody tr th:only-of-type {\n",
       "        vertical-align: middle;\n",
       "    }\n",
       "\n",
       "    .dataframe tbody tr th {\n",
       "        vertical-align: top;\n",
       "    }\n",
       "\n",
       "    .dataframe thead th {\n",
       "        text-align: right;\n",
       "    }\n",
       "</style>\n",
       "<table border=\"1\" class=\"dataframe\">\n",
       "  <thead>\n",
       "    <tr style=\"text-align: right;\">\n",
       "      <th></th>\n",
       "      <th>len_gaps</th>\n",
       "      <th>start_ids</th>\n",
       "      <th>end_ids</th>\n",
       "    </tr>\n",
       "  </thead>\n",
       "  <tbody>\n",
       "    <tr>\n",
       "      <th>count</th>\n",
       "      <td>16.000000</td>\n",
       "      <td>16.000000</td>\n",
       "      <td>16.000000</td>\n",
       "    </tr>\n",
       "    <tr>\n",
       "      <th>mean</th>\n",
       "      <td>10.750000</td>\n",
       "      <td>7954.125000</td>\n",
       "      <td>7964.875000</td>\n",
       "    </tr>\n",
       "    <tr>\n",
       "      <th>std</th>\n",
       "      <td>22.758149</td>\n",
       "      <td>4842.717761</td>\n",
       "      <td>4852.218529</td>\n",
       "    </tr>\n",
       "    <tr>\n",
       "      <th>min</th>\n",
       "      <td>1.000000</td>\n",
       "      <td>-1.000000</td>\n",
       "      <td>0.000000</td>\n",
       "    </tr>\n",
       "    <tr>\n",
       "      <th>25%</th>\n",
       "      <td>1.000000</td>\n",
       "      <td>5293.250000</td>\n",
       "      <td>5295.000000</td>\n",
       "    </tr>\n",
       "    <tr>\n",
       "      <th>50%</th>\n",
       "      <td>2.000000</td>\n",
       "      <td>5922.500000</td>\n",
       "      <td>5929.000000</td>\n",
       "    </tr>\n",
       "    <tr>\n",
       "      <th>75%</th>\n",
       "      <td>3.750000</td>\n",
       "      <td>12172.750000</td>\n",
       "      <td>12192.000000</td>\n",
       "    </tr>\n",
       "    <tr>\n",
       "      <th>max</th>\n",
       "      <td>74.000000</td>\n",
       "      <td>15067.000000</td>\n",
       "      <td>15073.000000</td>\n",
       "    </tr>\n",
       "  </tbody>\n",
       "</table>\n",
       "</div>"
      ],
      "text/plain": [
       "        len_gaps     start_ids       end_ids\n",
       "count  16.000000     16.000000     16.000000\n",
       "mean   10.750000   7954.125000   7964.875000\n",
       "std    22.758149   4842.717761   4852.218529\n",
       "min     1.000000     -1.000000      0.000000\n",
       "25%     1.000000   5293.250000   5295.000000\n",
       "50%     2.000000   5922.500000   5929.000000\n",
       "75%     3.750000  12172.750000  12192.000000\n",
       "max    74.000000  15067.000000  15073.000000"
      ]
     },
     "metadata": {},
     "output_type": "display_data"
    },
    {
     "data": {
      "text/html": [
       "<div>\n",
       "<style scoped>\n",
       "    .dataframe tbody tr th:only-of-type {\n",
       "        vertical-align: middle;\n",
       "    }\n",
       "\n",
       "    .dataframe tbody tr th {\n",
       "        vertical-align: top;\n",
       "    }\n",
       "\n",
       "    .dataframe thead th {\n",
       "        text-align: right;\n",
       "    }\n",
       "</style>\n",
       "<table border=\"1\" class=\"dataframe\">\n",
       "  <thead>\n",
       "    <tr style=\"text-align: right;\">\n",
       "      <th></th>\n",
       "      <th>no_gaps</th>\n",
       "      <th>len_gaps</th>\n",
       "      <th>start_ids</th>\n",
       "      <th>end_ids</th>\n",
       "    </tr>\n",
       "  </thead>\n",
       "  <tbody>\n",
       "    <tr>\n",
       "      <th>0</th>\n",
       "      <td>1</td>\n",
       "      <td>1</td>\n",
       "      <td>-1</td>\n",
       "      <td>0</td>\n",
       "    </tr>\n",
       "    <tr>\n",
       "      <th>1</th>\n",
       "      <td>2</td>\n",
       "      <td>1</td>\n",
       "      <td>1578</td>\n",
       "      <td>1579</td>\n",
       "    </tr>\n",
       "    <tr>\n",
       "      <th>2</th>\n",
       "      <td>3</td>\n",
       "      <td>1</td>\n",
       "      <td>2496</td>\n",
       "      <td>2497</td>\n",
       "    </tr>\n",
       "    <tr>\n",
       "      <th>3</th>\n",
       "      <td>4</td>\n",
       "      <td>1</td>\n",
       "      <td>5291</td>\n",
       "      <td>5292</td>\n",
       "    </tr>\n",
       "    <tr>\n",
       "      <th>4</th>\n",
       "      <td>5</td>\n",
       "      <td>2</td>\n",
       "      <td>5294</td>\n",
       "      <td>5296</td>\n",
       "    </tr>\n",
       "  </tbody>\n",
       "</table>\n",
       "</div>"
      ],
      "text/plain": [
       "   no_gaps  len_gaps  start_ids  end_ids\n",
       "0        1         1         -1        0\n",
       "1        2         1       1578     1579\n",
       "2        3         1       2496     2497\n",
       "3        4         1       5291     5292\n",
       "4        5         2       5294     5296"
      ]
     },
     "metadata": {},
     "output_type": "display_data"
    },
    {
     "name": "stdout",
     "output_type": "stream",
     "text": [
      "Data Gaps stats for station: MpKrakBujaka-PM10-1g\n"
     ]
    },
    {
     "data": {
      "text/html": [
       "<div>\n",
       "<style scoped>\n",
       "    .dataframe tbody tr th:only-of-type {\n",
       "        vertical-align: middle;\n",
       "    }\n",
       "\n",
       "    .dataframe tbody tr th {\n",
       "        vertical-align: top;\n",
       "    }\n",
       "\n",
       "    .dataframe thead th {\n",
       "        text-align: right;\n",
       "    }\n",
       "</style>\n",
       "<table border=\"1\" class=\"dataframe\">\n",
       "  <thead>\n",
       "    <tr style=\"text-align: right;\">\n",
       "      <th></th>\n",
       "      <th>len_gaps</th>\n",
       "      <th>start_ids</th>\n",
       "      <th>end_ids</th>\n",
       "    </tr>\n",
       "  </thead>\n",
       "  <tbody>\n",
       "    <tr>\n",
       "      <th>count</th>\n",
       "      <td>99.000000</td>\n",
       "      <td>99.000000</td>\n",
       "      <td>99.000000</td>\n",
       "    </tr>\n",
       "    <tr>\n",
       "      <th>mean</th>\n",
       "      <td>9.111111</td>\n",
       "      <td>7847.171717</td>\n",
       "      <td>7856.282828</td>\n",
       "    </tr>\n",
       "    <tr>\n",
       "      <th>std</th>\n",
       "      <td>16.306308</td>\n",
       "      <td>3877.373959</td>\n",
       "      <td>3881.354072</td>\n",
       "    </tr>\n",
       "    <tr>\n",
       "      <th>min</th>\n",
       "      <td>1.000000</td>\n",
       "      <td>-1.000000</td>\n",
       "      <td>0.000000</td>\n",
       "    </tr>\n",
       "    <tr>\n",
       "      <th>25%</th>\n",
       "      <td>1.000000</td>\n",
       "      <td>6337.500000</td>\n",
       "      <td>6339.000000</td>\n",
       "    </tr>\n",
       "    <tr>\n",
       "      <th>50%</th>\n",
       "      <td>2.000000</td>\n",
       "      <td>6876.000000</td>\n",
       "      <td>6878.000000</td>\n",
       "    </tr>\n",
       "    <tr>\n",
       "      <th>75%</th>\n",
       "      <td>6.000000</td>\n",
       "      <td>9802.500000</td>\n",
       "      <td>9803.500000</td>\n",
       "    </tr>\n",
       "    <tr>\n",
       "      <th>max</th>\n",
       "      <td>79.000000</td>\n",
       "      <td>15914.000000</td>\n",
       "      <td>15993.000000</td>\n",
       "    </tr>\n",
       "  </tbody>\n",
       "</table>\n",
       "</div>"
      ],
      "text/plain": [
       "        len_gaps     start_ids       end_ids\n",
       "count  99.000000     99.000000     99.000000\n",
       "mean    9.111111   7847.171717   7856.282828\n",
       "std    16.306308   3877.373959   3881.354072\n",
       "min     1.000000     -1.000000      0.000000\n",
       "25%     1.000000   6337.500000   6339.000000\n",
       "50%     2.000000   6876.000000   6878.000000\n",
       "75%     6.000000   9802.500000   9803.500000\n",
       "max    79.000000  15914.000000  15993.000000"
      ]
     },
     "metadata": {},
     "output_type": "display_data"
    },
    {
     "data": {
      "text/html": [
       "<div>\n",
       "<style scoped>\n",
       "    .dataframe tbody tr th:only-of-type {\n",
       "        vertical-align: middle;\n",
       "    }\n",
       "\n",
       "    .dataframe tbody tr th {\n",
       "        vertical-align: top;\n",
       "    }\n",
       "\n",
       "    .dataframe thead th {\n",
       "        text-align: right;\n",
       "    }\n",
       "</style>\n",
       "<table border=\"1\" class=\"dataframe\">\n",
       "  <thead>\n",
       "    <tr style=\"text-align: right;\">\n",
       "      <th></th>\n",
       "      <th>no_gaps</th>\n",
       "      <th>len_gaps</th>\n",
       "      <th>start_ids</th>\n",
       "      <th>end_ids</th>\n",
       "    </tr>\n",
       "  </thead>\n",
       "  <tbody>\n",
       "    <tr>\n",
       "      <th>0</th>\n",
       "      <td>1</td>\n",
       "      <td>1</td>\n",
       "      <td>-1</td>\n",
       "      <td>0</td>\n",
       "    </tr>\n",
       "    <tr>\n",
       "      <th>1</th>\n",
       "      <td>2</td>\n",
       "      <td>1</td>\n",
       "      <td>231</td>\n",
       "      <td>232</td>\n",
       "    </tr>\n",
       "    <tr>\n",
       "      <th>2</th>\n",
       "      <td>3</td>\n",
       "      <td>1</td>\n",
       "      <td>429</td>\n",
       "      <td>430</td>\n",
       "    </tr>\n",
       "    <tr>\n",
       "      <th>3</th>\n",
       "      <td>4</td>\n",
       "      <td>1</td>\n",
       "      <td>1139</td>\n",
       "      <td>1140</td>\n",
       "    </tr>\n",
       "    <tr>\n",
       "      <th>4</th>\n",
       "      <td>5</td>\n",
       "      <td>30</td>\n",
       "      <td>1348</td>\n",
       "      <td>1378</td>\n",
       "    </tr>\n",
       "  </tbody>\n",
       "</table>\n",
       "</div>"
      ],
      "text/plain": [
       "   no_gaps  len_gaps  start_ids  end_ids\n",
       "0        1         1         -1        0\n",
       "1        2         1        231      232\n",
       "2        3         1        429      430\n",
       "3        4         1       1139     1140\n",
       "4        5        30       1348     1378"
      ]
     },
     "metadata": {},
     "output_type": "display_data"
    },
    {
     "data": {
      "image/png": "[encoded data removed]",
      "text/plain": [
       "<Figure size 432x288 with 1 Axes>"
      ]
     },
     "metadata": {
      "needs_background": "light"
     },
     "output_type": "display_data"
    },
    {
     "data": {
      "image/png": "[encoded data removed]",
      "text/plain": [
       "<Figure size 432x288 with 1 Axes>"
      ]
     },
     "metadata": {
      "needs_background": "light"
     },
     "output_type": "display_data"
    }
   ],
   "source": [
    "from IPython.display import display\n",
    "\n",
    "for station in chosen_stations:\n",
    "    index = df_krk_chosen.reset_index()[station].index[df_krk_chosen.reset_index()[station].isna()]\n",
    "    df_index = df_krk_chosen.reset_index().index.values.tolist()\n",
    "    df_gaps = get_gaps_table(df_index)\n",
    "    print(\"Data Gaps stats for station: {}\".format(station))\n",
    "    display(df_gaps.set_index('no_gaps').describe())\n",
    "    display(df_gaps.head())\n",
    "    df_gaps.plot(x = 'no_gaps', y=['len_gaps'], kind='bar', title = \"Length of gaps with missing data in 2017-18 for {}\".format(station))"
   ]
  },
  {
   "cell_type": "code",
   "execution_count": 28,
   "metadata": {},
   "outputs": [
    {
     "data": {
      "text/plain": [
       "MpKrakAlKras-PM10-1g    191\n",
       "MpKrakBujaka-PM10-1g    903\n",
       "dtype: int64"
      ]
     },
     "execution_count": 28,
     "metadata": {},
     "output_type": "execute_result"
    }
   ],
   "source": [
    "df_krk_chosen.isna().sum()"
   ]
  },
  {
   "cell_type": "markdown",
   "metadata": {},
   "source": [
    "**NOTE:** Statystyki długości trwania przerw w danych wskazują dla obu badanych stacji, że mediana długości przerw wynosi 2 godziny. Dlatego w kolejnym kroku dla kazdej z luk w danych <= 2 godziny puste wskazania zostaną interpolowane. "
   ]
  },
  {
   "cell_type": "code",
   "execution_count": 30,
   "metadata": {},
   "outputs": [
    {
     "data": {
      "text/plain": [
       "MpKrakAlKras-PM10-1g    153\n",
       "MpKrakBujaka-PM10-1g    658\n",
       "dtype: int64"
      ]
     },
     "execution_count": 30,
     "metadata": {},
     "output_type": "execute_result"
    }
   ],
   "source": [
    "df_krk_chosen.interpolate(limit=2, inplace=True)\n",
    "df_krk_chosen.isna().sum()"
   ]
  },
  {
   "cell_type": "code",
   "execution_count": 31,
   "metadata": {},
   "outputs": [],
   "source": [
    "df_krk_chosen.to_csv(\"2017-2018_KrkAlKras_Bujaka_preprocessed_all_timestapms.csv\")"
   ]
  },
  {
   "cell_type": "markdown",
   "metadata": {},
   "source": [
    "W przypadku posiadanych danych interpolacja dłuższych przerw jak kilka godzin nie jest poprawna - godzinowe dane zmieniają się nieregularnie. Z tego powodu zdecydowano o usunięciu danych dla próbek, dla których dane nie zostały zapisane"
   ]
  },
  {
   "cell_type": "markdown",
   "metadata": {},
   "source": [
    "## Usuwanie rekordow nieznanych "
   ]
  },
  {
   "cell_type": "code",
   "execution_count": 32,
   "metadata": {},
   "outputs": [],
   "source": [
    "df_krk_chosen = pd.read_csv(\"2017-2018_KrkAlKras_Bujaka_preprocessed_all_timestapms.csv\")"
   ]
  },
  {
   "cell_type": "code",
   "execution_count": 39,
   "metadata": {},
   "outputs": [
    {
     "name": "stdout",
     "output_type": "stream",
     "text": [
      "       MpKrakAlKras-PM10-1g  MpKrakBujaka-PM10-1g\n",
      "count          16670.000000          16670.000000\n",
      "mean              56.371797             43.434043\n",
      "std               46.746226             44.822593\n",
      "min                2.885020              3.000000\n",
      "25%               27.475125             18.596225\n",
      "50%               42.260900             28.970550\n",
      "75%               68.530800             49.214275\n",
      "max              415.450000            480.523000\n"
     ]
    },
    {
     "data": {
      "text/plain": [
       "MpKrakAlKras-PM10-1g    0\n",
       "MpKrakBujaka-PM10-1g    0\n",
       "dtype: int64"
      ]
     },
     "execution_count": 39,
     "metadata": {},
     "output_type": "execute_result"
    }
   ],
   "source": [
    "# df_krk_chosen_dropped = df_krk_chosen.dropna()\n",
    "# print(df_krk_chosen_dropped.describe())\n",
    "# df_krk_chosen_dropped.isna().sum()"
   ]
  },
  {
   "cell_type": "markdown",
   "metadata": {},
   "source": [
    "# Podział na dwa pliki (po jednym na stacje)"
   ]
  },
  {
   "cell_type": "code",
   "execution_count": 56,
   "metadata": {},
   "outputs": [
    {
     "data": {
      "text/html": [
       "<div>\n",
       "<style scoped>\n",
       "    .dataframe tbody tr th:only-of-type {\n",
       "        vertical-align: middle;\n",
       "    }\n",
       "\n",
       "    .dataframe tbody tr th {\n",
       "        vertical-align: top;\n",
       "    }\n",
       "\n",
       "    .dataframe thead th {\n",
       "        text-align: right;\n",
       "    }\n",
       "</style>\n",
       "<table border=\"1\" class=\"dataframe\">\n",
       "  <thead>\n",
       "    <tr style=\"text-align: right;\">\n",
       "      <th></th>\n",
       "      <th>timestamp</th>\n",
       "      <th>MpKrakAlKras-PM10-1g</th>\n",
       "      <th>MpKrakBujaka-PM10-1g</th>\n",
       "    </tr>\n",
       "  </thead>\n",
       "  <tbody>\n",
       "    <tr>\n",
       "      <th>0</th>\n",
       "      <td>2017-01-01 01:00:00</td>\n",
       "      <td>213.733</td>\n",
       "      <td>392.428</td>\n",
       "    </tr>\n",
       "    <tr>\n",
       "      <th>1</th>\n",
       "      <td>2017-01-01 02:00:00</td>\n",
       "      <td>213.868</td>\n",
       "      <td>258.667</td>\n",
       "    </tr>\n",
       "    <tr>\n",
       "      <th>2</th>\n",
       "      <td>2017-01-01 03:00:00</td>\n",
       "      <td>221.923</td>\n",
       "      <td>211.760</td>\n",
       "    </tr>\n",
       "    <tr>\n",
       "      <th>3</th>\n",
       "      <td>2017-01-01 04:00:00</td>\n",
       "      <td>244.690</td>\n",
       "      <td>191.820</td>\n",
       "    </tr>\n",
       "    <tr>\n",
       "      <th>4</th>\n",
       "      <td>2017-01-01 05:00:00</td>\n",
       "      <td>224.673</td>\n",
       "      <td>187.663</td>\n",
       "    </tr>\n",
       "  </tbody>\n",
       "</table>\n",
       "</div>"
      ],
      "text/plain": [
       "             timestamp  MpKrakAlKras-PM10-1g  MpKrakBujaka-PM10-1g\n",
       "0  2017-01-01 01:00:00               213.733               392.428\n",
       "1  2017-01-01 02:00:00               213.868               258.667\n",
       "2  2017-01-01 03:00:00               221.923               211.760\n",
       "3  2017-01-01 04:00:00               244.690               191.820\n",
       "4  2017-01-01 05:00:00               224.673               187.663"
      ]
     },
     "execution_count": 56,
     "metadata": {},
     "output_type": "execute_result"
    }
   ],
   "source": [
    "df_krk_chosen = pd.read_csv(\"2017-2018_KrkAlKras_Bujaka_preprocessed_all_timestapms.csv\")\n",
    "# df_krk_chosen['Przewidywania'] = [[0, 0, 0 ]]*len(df_krk_chosen)\n",
    "df_krk_chosen.head()"
   ]
  },
  {
   "cell_type": "code",
   "execution_count": 60,
   "metadata": {},
   "outputs": [
    {
     "name": "stdout",
     "output_type": "stream",
     "text": [
      "Saved to  2017-2018_single_MpKrakAlKras_preprocessed_all_timestapms.csv\n",
      "Saved to  2017-2018_single_MpKrakBujaka_preprocessed_all_timestapms.csv\n"
     ]
    }
   ],
   "source": [
    "for station in chosen_stations:\n",
    "    fn = \"2017-2018_single_{}_preprocessed_all_timestapms.csv\".format(station.split('-')[0])\n",
    "    df_krk_chosen.loc[:, ['timestamp',station]].to_csv(fn, index=False)\n",
    "    print(\"Saved to \", fn)"
   ]
  },
  {
   "cell_type": "code",
   "execution_count": 80,
   "metadata": {},
   "outputs": [
    {
     "data": {
      "text/html": [
       "<div>\n",
       "<style scoped>\n",
       "    .dataframe tbody tr th:only-of-type {\n",
       "        vertical-align: middle;\n",
       "    }\n",
       "\n",
       "    .dataframe tbody tr th {\n",
       "        vertical-align: top;\n",
       "    }\n",
       "\n",
       "    .dataframe thead th {\n",
       "        text-align: right;\n",
       "    }\n",
       "</style>\n",
       "<table border=\"1\" class=\"dataframe\">\n",
       "  <thead>\n",
       "    <tr style=\"text-align: right;\">\n",
       "      <th></th>\n",
       "      <th>MpKrakBujaka-PM10-1g</th>\n",
       "    </tr>\n",
       "    <tr>\n",
       "      <th>timestamp</th>\n",
       "      <th></th>\n",
       "    </tr>\n",
       "  </thead>\n",
       "  <tbody>\n",
       "    <tr>\n",
       "      <th>2017-01-01 01:00:00</th>\n",
       "      <td>392.428</td>\n",
       "    </tr>\n",
       "    <tr>\n",
       "      <th>2017-01-01 02:00:00</th>\n",
       "      <td>258.667</td>\n",
       "    </tr>\n",
       "  </tbody>\n",
       "</table>\n",
       "</div>"
      ],
      "text/plain": [
       "                     MpKrakBujaka-PM10-1g\n",
       "timestamp                                \n",
       "2017-01-01 01:00:00               392.428\n",
       "2017-01-01 02:00:00               258.667"
      ]
     },
     "execution_count": 80,
     "metadata": {},
     "output_type": "execute_result"
    }
   ],
   "source": [
    "#check\n",
    "df= pd.read_csv(\"2017-2018_single_MpKrakBujaka_preprocessed_all_timestapms.csv\")\n",
    "df['timestamp'] = pd.to_datetime(df['timestamp'])\n",
    "df.set_index('timestamp', inplace = True)\n",
    "df.head(2)"
   ]
  },
  {
   "cell_type": "markdown",
   "metadata": {},
   "source": [
    "## Tworzenie nowych kolumn z prognozami za 3, 8 i 12 h. "
   ]
  },
  {
   "cell_type": "code",
   "execution_count": null,
   "metadata": {},
   "outputs": [],
   "source": [
    "from datetime import datetime, timedelta"
   ]
  },
  {
   "cell_type": "code",
   "execution_count": 102,
   "metadata": {},
   "outputs": [],
   "source": [
    "def get_future_values(df, hours):  \n",
    "    forecast_list = []\n",
    "    col_name = df.columns[0]\n",
    "    for tmstp_index in df.index:\n",
    "        try:\n",
    "            value = df.loc[tmstp_index+timedelta(hours=hours), col_name] if tmstp_index <df.index[-hours] else None\n",
    "        except KeyError as e:\n",
    "            value = None\n",
    "        forecast_list.append(value)\n",
    "    return forecast_list"
   ]
  },
  {
   "cell_type": "code",
   "execution_count": 113,
   "metadata": {},
   "outputs": [
    {
     "name": "stdout",
     "output_type": "stream",
     "text": [
      "Saved 2017-2018_single_MpKrakAlKras_all_timestapms_with_forecast3_8_12h.csv\n",
      "Saved 2017-2018_single_MpKrakBujaka_all_timestapms_with_forecast3_8_12h.csv\n"
     ]
    }
   ],
   "source": [
    "\n",
    "for station in chosen_stations:\n",
    "    fn_read = \"2017-2018_single_{}_preprocessed_all_timestapms.csv\".format(station.split('-')[0])\n",
    "    df= pd.read_csv(fn_read)\n",
    "    df['timestamp'] = pd.to_datetime(df['timestamp'])\n",
    "    df.set_index('timestamp', inplace = True)\n",
    "    \n",
    "    col_name_template = 'PM10_Forecast_{}h'\n",
    "    for h in (3, 8, 12):\n",
    "        df[col_name_template.format(h)] =  get_future_values(df, h)\n",
    "    \n",
    "    fn_out = \"2017-2018_single_{}_all_timestapms_with_forecast3_8_12h.csv\".format(station.split('-')[0])\n",
    "    df.to_csv(fn_out)\n",
    "    print(\"Saved\", fn_out)"
   ]
  },
  {
   "cell_type": "markdown",
   "metadata": {},
   "source": [
    "# Łączenie danych pogodowych w jeden plik 2017-2018"
   ]
  },
  {
   "cell_type": "code",
   "execution_count": 114,
   "metadata": {},
   "outputs": [],
   "source": [
    "from datetime import date\n",
    "def to_date(filename):\n",
    "    return date(year=int(file[:4]), month=int(file[4:6]), day = int(file[6:8]))"
   ]
  },
  {
   "cell_type": "code",
   "execution_count": 115,
   "metadata": {},
   "outputs": [],
   "source": [
    "main_folder_path = \"./weather2017-19 ver2\"\n",
    "years = ['2017', '2018']"
   ]
  },
  {
   "cell_type": "code",
   "execution_count": 116,
   "metadata": {},
   "outputs": [],
   "source": [
    "import os\n",
    "\n",
    "weather_df = pd.DataFrame()\n",
    "x_dirs = [x[0] for x in os.walk(main_folder_path) if '2019' not in x[0]]\n",
    "import os\n",
    "for path in x_dirs:\n",
    "    for file in os.listdir(path):\n",
    "        if file.endswith(\".csv\"):\n",
    "            daily_file_path = os.path.join(path, file)\n",
    "            daily_df =  pd.read_csv(daily_file_path)\n",
    "#             if (len(daily_df) not in [48]): print(len(daily_df), daily_file_path)\n",
    "            daily_df['date'] = [str(to_date(file))]*len(daily_df)\n",
    "            if len(weather_df) <= 0: \n",
    "                weather_df = daily_df\n",
    "            else:\n",
    "                weather_df = pd.concat([weather_df, daily_df])"
   ]
  },
  {
   "cell_type": "code",
   "execution_count": 117,
   "metadata": {},
   "outputs": [],
   "source": [
    "weather_df['timestamp'] = pd.to_datetime(weather_df['date'] + ' ' + weather_df['Hour'])\n",
    "weather_df.drop(columns=['date', 'Hour'], inplace=True)\n",
    "weather_df.set_index('timestamp', inplace=True)"
   ]
  },
  {
   "cell_type": "code",
   "execution_count": 118,
   "metadata": {},
   "outputs": [],
   "source": [
    "weather_df.loc[:, 'Humidity'].fillna(method = 'bfill', inplace=True)\n",
    "weather_df.loc[:, 'Barometer'].fillna(method = 'bfill', inplace=True)"
   ]
  },
  {
   "cell_type": "code",
   "execution_count": 119,
   "metadata": {},
   "outputs": [
    {
     "data": {
      "text/html": [
       "<div>\n",
       "<style scoped>\n",
       "    .dataframe tbody tr th:only-of-type {\n",
       "        vertical-align: middle;\n",
       "    }\n",
       "\n",
       "    .dataframe tbody tr th {\n",
       "        vertical-align: top;\n",
       "    }\n",
       "\n",
       "    .dataframe thead th {\n",
       "        text-align: right;\n",
       "    }\n",
       "</style>\n",
       "<table border=\"1\" class=\"dataframe\">\n",
       "  <thead>\n",
       "    <tr style=\"text-align: right;\">\n",
       "      <th></th>\n",
       "      <th>Temp</th>\n",
       "      <th>Weather</th>\n",
       "      <th>Wind</th>\n",
       "      <th>Direction (degrees)</th>\n",
       "      <th>Humidity</th>\n",
       "      <th>Barometer</th>\n",
       "      <th>Visibility</th>\n",
       "    </tr>\n",
       "    <tr>\n",
       "      <th>timestamp</th>\n",
       "      <th></th>\n",
       "      <th></th>\n",
       "      <th></th>\n",
       "      <th></th>\n",
       "      <th></th>\n",
       "      <th></th>\n",
       "      <th></th>\n",
       "    </tr>\n",
       "  </thead>\n",
       "  <tbody>\n",
       "    <tr>\n",
       "      <th>2017-01-01 00:00:00</th>\n",
       "      <td>-6C</td>\n",
       "      <td>Ice fog.</td>\n",
       "      <td>1 m/s</td>\n",
       "      <td>0</td>\n",
       "      <td>93%</td>\n",
       "      <td>1025 mbar</td>\n",
       "      <td>3km</td>\n",
       "    </tr>\n",
       "    <tr>\n",
       "      <th>2017-01-01 00:30:00</th>\n",
       "      <td>-7C</td>\n",
       "      <td>Ice fog.</td>\n",
       "      <td>1 m/s</td>\n",
       "      <td>0</td>\n",
       "      <td>93%</td>\n",
       "      <td>1024 mbar</td>\n",
       "      <td>3km</td>\n",
       "    </tr>\n",
       "    <tr>\n",
       "      <th>2017-01-01 01:00:00</th>\n",
       "      <td>-6C</td>\n",
       "      <td>Ice fog.</td>\n",
       "      <td>1 m/s</td>\n",
       "      <td>0</td>\n",
       "      <td>93%</td>\n",
       "      <td>1024 mbar</td>\n",
       "      <td>3km</td>\n",
       "    </tr>\n",
       "    <tr>\n",
       "      <th>2017-01-01 01:30:00</th>\n",
       "      <td>-7C</td>\n",
       "      <td>Ice fog.</td>\n",
       "      <td>1 m/s</td>\n",
       "      <td>0</td>\n",
       "      <td>93%</td>\n",
       "      <td>1024 mbar</td>\n",
       "      <td>3km</td>\n",
       "    </tr>\n",
       "    <tr>\n",
       "      <th>2017-01-01 02:00:00</th>\n",
       "      <td>-7C</td>\n",
       "      <td>Ice fog.</td>\n",
       "      <td>2 m/s</td>\n",
       "      <td>190</td>\n",
       "      <td>93%</td>\n",
       "      <td>1024 mbar</td>\n",
       "      <td>3km</td>\n",
       "    </tr>\n",
       "  </tbody>\n",
       "</table>\n",
       "</div>"
      ],
      "text/plain": [
       "                    Temp   Weather   Wind  Direction (degrees) Humidity  \\\n",
       "timestamp                                                                 \n",
       "2017-01-01 00:00:00  -6C  Ice fog.  1 m/s                    0      93%   \n",
       "2017-01-01 00:30:00  -7C  Ice fog.  1 m/s                    0      93%   \n",
       "2017-01-01 01:00:00  -6C  Ice fog.  1 m/s                    0      93%   \n",
       "2017-01-01 01:30:00  -7C  Ice fog.  1 m/s                    0      93%   \n",
       "2017-01-01 02:00:00  -7C  Ice fog.  2 m/s                  190      93%   \n",
       "\n",
       "                     Barometer Visibility  \n",
       "timestamp                                  \n",
       "2017-01-01 00:00:00  1025 mbar        3km  \n",
       "2017-01-01 00:30:00  1024 mbar        3km  \n",
       "2017-01-01 01:00:00  1024 mbar        3km  \n",
       "2017-01-01 01:30:00  1024 mbar        3km  \n",
       "2017-01-01 02:00:00  1024 mbar        3km  "
      ]
     },
     "execution_count": 119,
     "metadata": {},
     "output_type": "execute_result"
    }
   ],
   "source": [
    "weather_df.head()"
   ]
  },
  {
   "cell_type": "code",
   "execution_count": 51,
   "metadata": {},
   "outputs": [
    {
     "data": {
      "text/plain": [
       "DatetimeIndex(['2017-01-02 10:00:00', '2017-01-02 10:30:00',\n",
       "               '2017-01-02 11:00:00', '2017-01-02 11:30:00',\n",
       "               '2017-01-02 12:00:00', '2017-01-02 12:30:00',\n",
       "               '2017-01-02 13:00:00', '2017-01-03 11:00:00',\n",
       "               '2017-01-03 11:30:00', '2017-01-03 13:00:00',\n",
       "               ...\n",
       "               '2018-12-31 18:00:00', '2018-12-31 18:30:00',\n",
       "               '2018-12-31 19:00:00', '2018-12-31 19:30:00',\n",
       "               '2018-12-31 20:00:00', '2018-12-31 20:30:00',\n",
       "               '2018-12-31 21:00:00', '2018-12-31 21:30:00',\n",
       "               '2018-12-31 22:00:00', '2018-12-31 22:30:00'],\n",
       "              dtype='datetime64[ns]', name='timestamp', length=15952, freq=None)"
      ]
     },
     "execution_count": 51,
     "metadata": {},
     "output_type": "execute_result"
    }
   ],
   "source": [
    "series = weather_df.loc[:, 'Visibility']\n",
    "series.index[series.isna()]"
   ]
  },
  {
   "cell_type": "code",
   "execution_count": 121,
   "metadata": {},
   "outputs": [],
   "source": [
    "weather_df.to_csv('2017-2018_weather_partly_preprocessed_with_units.csv')"
   ]
  },
  {
   "cell_type": "markdown",
   "metadata": {},
   "source": [
    "# Usuwanie jednostek"
   ]
  },
  {
   "cell_type": "markdown",
   "metadata": {},
   "source": [
    "Z powodu dużej ilości braku danych na temat widocznosci (prawie 50% danych jest NaN -> nieznane) kolumna została pominieta w dalszych analizach"
   ]
  },
  {
   "cell_type": "code",
   "execution_count": 122,
   "metadata": {},
   "outputs": [],
   "source": [
    "weather_df = pd.read_csv('2017-2018_weather_partly_preprocessed_with_units.csv')"
   ]
  },
  {
   "cell_type": "code",
   "execution_count": 123,
   "metadata": {},
   "outputs": [
    {
     "name": "stdout",
     "output_type": "stream",
     "text": [
      "34518\n"
     ]
    },
    {
     "data": {
      "text/html": [
       "<div>\n",
       "<style scoped>\n",
       "    .dataframe tbody tr th:only-of-type {\n",
       "        vertical-align: middle;\n",
       "    }\n",
       "\n",
       "    .dataframe tbody tr th {\n",
       "        vertical-align: top;\n",
       "    }\n",
       "\n",
       "    .dataframe thead th {\n",
       "        text-align: right;\n",
       "    }\n",
       "</style>\n",
       "<table border=\"1\" class=\"dataframe\">\n",
       "  <thead>\n",
       "    <tr style=\"text-align: right;\">\n",
       "      <th></th>\n",
       "      <th>timestamp</th>\n",
       "      <th>Temp</th>\n",
       "      <th>Weather</th>\n",
       "      <th>Wind</th>\n",
       "      <th>Direction (degrees)</th>\n",
       "      <th>Humidity</th>\n",
       "      <th>Barometer</th>\n",
       "      <th>Visibility</th>\n",
       "    </tr>\n",
       "  </thead>\n",
       "  <tbody>\n",
       "    <tr>\n",
       "      <th>0</th>\n",
       "      <td>2017-01-01 00:00:00</td>\n",
       "      <td>-6C</td>\n",
       "      <td>Ice fog.</td>\n",
       "      <td>1 m/s</td>\n",
       "      <td>0</td>\n",
       "      <td>93%</td>\n",
       "      <td>1025 mbar</td>\n",
       "      <td>3km</td>\n",
       "    </tr>\n",
       "    <tr>\n",
       "      <th>1</th>\n",
       "      <td>2017-01-01 00:30:00</td>\n",
       "      <td>-7C</td>\n",
       "      <td>Ice fog.</td>\n",
       "      <td>1 m/s</td>\n",
       "      <td>0</td>\n",
       "      <td>93%</td>\n",
       "      <td>1024 mbar</td>\n",
       "      <td>3km</td>\n",
       "    </tr>\n",
       "    <tr>\n",
       "      <th>2</th>\n",
       "      <td>2017-01-01 01:00:00</td>\n",
       "      <td>-6C</td>\n",
       "      <td>Ice fog.</td>\n",
       "      <td>1 m/s</td>\n",
       "      <td>0</td>\n",
       "      <td>93%</td>\n",
       "      <td>1024 mbar</td>\n",
       "      <td>3km</td>\n",
       "    </tr>\n",
       "    <tr>\n",
       "      <th>3</th>\n",
       "      <td>2017-01-01 01:30:00</td>\n",
       "      <td>-7C</td>\n",
       "      <td>Ice fog.</td>\n",
       "      <td>1 m/s</td>\n",
       "      <td>0</td>\n",
       "      <td>93%</td>\n",
       "      <td>1024 mbar</td>\n",
       "      <td>3km</td>\n",
       "    </tr>\n",
       "    <tr>\n",
       "      <th>4</th>\n",
       "      <td>2017-01-01 02:00:00</td>\n",
       "      <td>-7C</td>\n",
       "      <td>Ice fog.</td>\n",
       "      <td>2 m/s</td>\n",
       "      <td>190</td>\n",
       "      <td>93%</td>\n",
       "      <td>1024 mbar</td>\n",
       "      <td>3km</td>\n",
       "    </tr>\n",
       "  </tbody>\n",
       "</table>\n",
       "</div>"
      ],
      "text/plain": [
       "             timestamp Temp   Weather   Wind  Direction (degrees) Humidity  \\\n",
       "0  2017-01-01 00:00:00  -6C  Ice fog.  1 m/s                    0      93%   \n",
       "1  2017-01-01 00:30:00  -7C  Ice fog.  1 m/s                    0      93%   \n",
       "2  2017-01-01 01:00:00  -6C  Ice fog.  1 m/s                    0      93%   \n",
       "3  2017-01-01 01:30:00  -7C  Ice fog.  1 m/s                    0      93%   \n",
       "4  2017-01-01 02:00:00  -7C  Ice fog.  2 m/s                  190      93%   \n",
       "\n",
       "   Barometer Visibility  \n",
       "0  1025 mbar        3km  \n",
       "1  1024 mbar        3km  \n",
       "2  1024 mbar        3km  \n",
       "3  1024 mbar        3km  \n",
       "4  1024 mbar        3km  "
      ]
     },
     "execution_count": 123,
     "metadata": {},
     "output_type": "execute_result"
    }
   ],
   "source": [
    "print(len(weather_df))\n",
    "weather_df.head()"
   ]
  },
  {
   "cell_type": "code",
   "execution_count": 124,
   "metadata": {},
   "outputs": [],
   "source": [
    "weather_df_no_units = pd.DataFrame()\n",
    "weather_df_no_units['timestamp'] = weather_df['timestamp']\n",
    "weather_df_no_units['Weather'] = weather_df['Weather']\n",
    "weather_df_no_units['Direction(deg)'] = weather_df['Direction (degrees)']\n",
    "weather_df_no_units.set_index('timestamp', inplace=True)"
   ]
  },
  {
   "cell_type": "code",
   "execution_count": 125,
   "metadata": {},
   "outputs": [],
   "source": [
    "temp_list = list(weather_df.loc[:, 'Temp'])"
   ]
  },
  {
   "cell_type": "code",
   "execution_count": 126,
   "metadata": {},
   "outputs": [],
   "source": [
    "weather_df_no_units['Temp(C)'] = [int(temp.replace('C', '')) for temp in temp_list]"
   ]
  },
  {
   "cell_type": "code",
   "execution_count": 127,
   "metadata": {},
   "outputs": [],
   "source": [
    "wind_list = list(weather_df.loc[:, 'Wind'])\n",
    "\n",
    "weather_df_no_units['Wind(m/s)'] = [0 if wind=='No wind' else int(wind.replace('m/s', '')) for wind in wind_list]"
   ]
  },
  {
   "cell_type": "code",
   "execution_count": 128,
   "metadata": {},
   "outputs": [],
   "source": [
    "unit_list = list(weather_df.loc[:, 'Humidity'])\n",
    "weather_df_no_units['Humidity'] = [int(unit.replace('%', ''))/100 for unit in unit_list if '%' in unit ]"
   ]
  },
  {
   "cell_type": "code",
   "execution_count": 129,
   "metadata": {},
   "outputs": [],
   "source": [
    "unit_list = list(weather_df.loc[:, 'Barometer'])\n",
    "weather_df_no_units['Barometer(mbar)'] = [int(unit.replace('mbar', ''))/100 for unit in unit_list if 'mbar' in unit ]"
   ]
  },
  {
   "cell_type": "code",
   "execution_count": 130,
   "metadata": {},
   "outputs": [
    {
     "name": "stdout",
     "output_type": "stream",
     "text": [
      "34518\n"
     ]
    },
    {
     "data": {
      "text/html": [
       "<div>\n",
       "<style scoped>\n",
       "    .dataframe tbody tr th:only-of-type {\n",
       "        vertical-align: middle;\n",
       "    }\n",
       "\n",
       "    .dataframe tbody tr th {\n",
       "        vertical-align: top;\n",
       "    }\n",
       "\n",
       "    .dataframe thead th {\n",
       "        text-align: right;\n",
       "    }\n",
       "</style>\n",
       "<table border=\"1\" class=\"dataframe\">\n",
       "  <thead>\n",
       "    <tr style=\"text-align: right;\">\n",
       "      <th></th>\n",
       "      <th>Weather</th>\n",
       "      <th>Direction(deg)</th>\n",
       "      <th>Temp(C)</th>\n",
       "      <th>Wind(m/s)</th>\n",
       "      <th>Humidity</th>\n",
       "      <th>Barometer(mbar)</th>\n",
       "    </tr>\n",
       "    <tr>\n",
       "      <th>timestamp</th>\n",
       "      <th></th>\n",
       "      <th></th>\n",
       "      <th></th>\n",
       "      <th></th>\n",
       "      <th></th>\n",
       "      <th></th>\n",
       "    </tr>\n",
       "  </thead>\n",
       "  <tbody>\n",
       "    <tr>\n",
       "      <th>2017-01-01 00:00:00</th>\n",
       "      <td>Ice fog.</td>\n",
       "      <td>0</td>\n",
       "      <td>-6</td>\n",
       "      <td>1</td>\n",
       "      <td>0.93</td>\n",
       "      <td>10.25</td>\n",
       "    </tr>\n",
       "    <tr>\n",
       "      <th>2017-01-01 00:30:00</th>\n",
       "      <td>Ice fog.</td>\n",
       "      <td>0</td>\n",
       "      <td>-7</td>\n",
       "      <td>1</td>\n",
       "      <td>0.93</td>\n",
       "      <td>10.24</td>\n",
       "    </tr>\n",
       "    <tr>\n",
       "      <th>2017-01-01 01:00:00</th>\n",
       "      <td>Ice fog.</td>\n",
       "      <td>0</td>\n",
       "      <td>-6</td>\n",
       "      <td>1</td>\n",
       "      <td>0.93</td>\n",
       "      <td>10.24</td>\n",
       "    </tr>\n",
       "    <tr>\n",
       "      <th>2017-01-01 01:30:00</th>\n",
       "      <td>Ice fog.</td>\n",
       "      <td>0</td>\n",
       "      <td>-7</td>\n",
       "      <td>1</td>\n",
       "      <td>0.93</td>\n",
       "      <td>10.24</td>\n",
       "    </tr>\n",
       "    <tr>\n",
       "      <th>2017-01-01 02:00:00</th>\n",
       "      <td>Ice fog.</td>\n",
       "      <td>190</td>\n",
       "      <td>-7</td>\n",
       "      <td>2</td>\n",
       "      <td>0.93</td>\n",
       "      <td>10.24</td>\n",
       "    </tr>\n",
       "  </tbody>\n",
       "</table>\n",
       "</div>"
      ],
      "text/plain": [
       "                      Weather  Direction(deg)  Temp(C)  Wind(m/s)  Humidity  \\\n",
       "timestamp                                                                     \n",
       "2017-01-01 00:00:00  Ice fog.               0       -6          1      0.93   \n",
       "2017-01-01 00:30:00  Ice fog.               0       -7          1      0.93   \n",
       "2017-01-01 01:00:00  Ice fog.               0       -6          1      0.93   \n",
       "2017-01-01 01:30:00  Ice fog.               0       -7          1      0.93   \n",
       "2017-01-01 02:00:00  Ice fog.             190       -7          2      0.93   \n",
       "\n",
       "                     Barometer(mbar)  \n",
       "timestamp                             \n",
       "2017-01-01 00:00:00            10.25  \n",
       "2017-01-01 00:30:00            10.24  \n",
       "2017-01-01 01:00:00            10.24  \n",
       "2017-01-01 01:30:00            10.24  \n",
       "2017-01-01 02:00:00            10.24  "
      ]
     },
     "execution_count": 130,
     "metadata": {},
     "output_type": "execute_result"
    }
   ],
   "source": [
    "print(len(weather_df_no_units))\n",
    "weather_df_no_units.head()"
   ]
  },
  {
   "cell_type": "code",
   "execution_count": 131,
   "metadata": {},
   "outputs": [],
   "source": [
    "weather_df_no_units.to_csv('2017-2018_weather_preprocessed.csv')"
   ]
  },
  {
   "cell_type": "markdown",
   "metadata": {},
   "source": [
    "# Łączenie danych pogodowych i danych jakosći powietrza"
   ]
  },
  {
   "cell_type": "code",
   "execution_count": 153,
   "metadata": {},
   "outputs": [
    {
     "name": "stdout",
     "output_type": "stream",
     "text": [
      "Saved  MpKrakAlKras-PM10-1g\n",
      "Saved  MpKrakBujaka-PM10-1g\n"
     ]
    }
   ],
   "source": [
    "weather_df_no_units = pd.read_csv('2017-2018_weather_preprocessed.csv').set_index('timestamp')\n",
    "\n",
    "for station in chosen_stations:\n",
    "    df_krk= pd.read_csv(\"2017-2018_single_{}_all_timestapms_with_forecast3_8_12h.csv\".format(station.split('-')[0])).set_index('timestamp')\n",
    "    data_joined = df_krk.join(weather_df_no_units, how='left')\n",
    "    \n",
    "    series = data_joined['Weather']\n",
    "    index = series.index[series.isna()]\n",
    "    \n",
    "    wheather_columns = weather_df_no_units.columns.to_list()\n",
    "    for tmstmp in index:\n",
    "        #copy from next half-hour\n",
    "        half_next_tmstmp = str(pd.to_datetime(tmstmp)+timedelta(minutes=30))\n",
    "        try:\n",
    "            data_joined.at[tmstmp, 'Weather':'Barometer(mbar)'] = weather_df_no_units.loc[half_next_tmstmp].tolist()\n",
    "        except KeyError:\n",
    "            #copy from prev half-hour\n",
    "            half_prev_tmstmp = str(pd.to_datetime(tmstmp)-timedelta(minutes=30))\n",
    "            try:\n",
    "                data_joined.at[tmstmp, 'Weather':'Barometer(mbar)'] = weather_df_no_units.loc[half_prev_tmstmp].tolist()\n",
    "            except KeyError:\n",
    "                #copy from next hour\n",
    "                next_tmstmp = str(pd.to_datetime(tmstmp)+timedelta(minutes=60))\n",
    "                try:\n",
    "                    data_joined.at[tmstmp, 'Weather':'Barometer(mbar)'] = weather_df_no_units.loc[next_tmstmp].tolist()\n",
    "                except KeyError:\n",
    "                     #copy from prev hour\n",
    "                    prev_tmstmp = str(pd.to_datetime(tmstmp)-timedelta(minutes=60))\n",
    "                    try:\n",
    "                        data_joined.at[tmstmp, 'Weather':'Barometer(mbar)'] = weather_df_no_units.loc[prev_tmstmp].tolist()\n",
    "                    except KeyError:\n",
    "                        print(\"KeyError for tmstmp = {} and half_next_tmstmp set as {}\".format(tmstmp, half_next_tmstmp))\n",
    "                        \n",
    "    data_joined.sort_index(inplace=True)\n",
    "\n",
    "    columns_order = [station, 'Weather', 'Temp(C)','Wind(m/s)', 'Direction(deg)',\n",
    "    'Humidity', 'Barometer(mbar)', 'PM10_Forecast_3h', 'PM10_Forecast_8h',\n",
    "   'PM10_Forecast_12h']\n",
    "\n",
    "    data_joined = data_joined.reindex(columns_order, axis=1)\n",
    "    data_joined.head()\n",
    "\n",
    "\n",
    "    fn_out = \"2017-2018_single_{}_with_NONES_with_forecast3_8_12h.csv\".format(station.split('-')[0])\n",
    "    data_joined.to_csv(fn_out)\n",
    "    print(\"Saved \", station)\n"
   ]
  },
  {
   "cell_type": "code",
   "execution_count": null,
   "metadata": {},
   "outputs": [],
   "source": []
  }
 ],
 "metadata": {
  "kernelspec": {
   "display_name": "Python 3",
   "language": "python",
   "name": "python3"
  },
  "language_info": {
   "codemirror_mode": {
    "name": "ipython",
    "version": 3
   },
   "file_extension": ".py",
   "mimetype": "text/x-python",
   "name": "python",
   "nbconvert_exporter": "python",
   "pygments_lexer": "ipython3",
   "version": "3.6.10"
  }
 },
 "nbformat": 4,
 "nbformat_minor": 4
}
