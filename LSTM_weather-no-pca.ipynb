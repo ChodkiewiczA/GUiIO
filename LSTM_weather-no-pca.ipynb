{
 "cells": [
  {
   "cell_type": "code",
   "execution_count": 1,
   "metadata": {
    "scrolled": true
   },
   "outputs": [
    {
     "name": "stderr",
     "output_type": "stream",
     "text": [
      "Using TensorFlow backend.\n",
      "c:\\users\\dorotka\\anaconda3\\envs\\dataanalitics\\lib\\site-packages\\tensorflow\\python\\framework\\dtypes.py:516: FutureWarning: Passing (type, 1) or '1type' as a synonym of type is deprecated; in a future version of numpy, it will be understood as (type, (1,)) / '(1,)type'.\n",
      "  _np_qint8 = np.dtype([(\"qint8\", np.int8, 1)])\n",
      "c:\\users\\dorotka\\anaconda3\\envs\\dataanalitics\\lib\\site-packages\\tensorflow\\python\\framework\\dtypes.py:517: FutureWarning: Passing (type, 1) or '1type' as a synonym of type is deprecated; in a future version of numpy, it will be understood as (type, (1,)) / '(1,)type'.\n",
      "  _np_quint8 = np.dtype([(\"quint8\", np.uint8, 1)])\n",
      "c:\\users\\dorotka\\anaconda3\\envs\\dataanalitics\\lib\\site-packages\\tensorflow\\python\\framework\\dtypes.py:518: FutureWarning: Passing (type, 1) or '1type' as a synonym of type is deprecated; in a future version of numpy, it will be understood as (type, (1,)) / '(1,)type'.\n",
      "  _np_qint16 = np.dtype([(\"qint16\", np.int16, 1)])\n",
      "c:\\users\\dorotka\\anaconda3\\envs\\dataanalitics\\lib\\site-packages\\tensorflow\\python\\framework\\dtypes.py:519: FutureWarning: Passing (type, 1) or '1type' as a synonym of type is deprecated; in a future version of numpy, it will be understood as (type, (1,)) / '(1,)type'.\n",
      "  _np_quint16 = np.dtype([(\"quint16\", np.uint16, 1)])\n",
      "c:\\users\\dorotka\\anaconda3\\envs\\dataanalitics\\lib\\site-packages\\tensorflow\\python\\framework\\dtypes.py:520: FutureWarning: Passing (type, 1) or '1type' as a synonym of type is deprecated; in a future version of numpy, it will be understood as (type, (1,)) / '(1,)type'.\n",
      "  _np_qint32 = np.dtype([(\"qint32\", np.int32, 1)])\n",
      "c:\\users\\dorotka\\anaconda3\\envs\\dataanalitics\\lib\\site-packages\\tensorflow\\python\\framework\\dtypes.py:525: FutureWarning: Passing (type, 1) or '1type' as a synonym of type is deprecated; in a future version of numpy, it will be understood as (type, (1,)) / '(1,)type'.\n",
      "  np_resource = np.dtype([(\"resource\", np.ubyte, 1)])\n",
      "c:\\users\\dorotka\\anaconda3\\envs\\dataanalitics\\lib\\site-packages\\tensorboard\\compat\\tensorflow_stub\\dtypes.py:541: FutureWarning: Passing (type, 1) or '1type' as a synonym of type is deprecated; in a future version of numpy, it will be understood as (type, (1,)) / '(1,)type'.\n",
      "  _np_qint8 = np.dtype([(\"qint8\", np.int8, 1)])\n",
      "c:\\users\\dorotka\\anaconda3\\envs\\dataanalitics\\lib\\site-packages\\tensorboard\\compat\\tensorflow_stub\\dtypes.py:542: FutureWarning: Passing (type, 1) or '1type' as a synonym of type is deprecated; in a future version of numpy, it will be understood as (type, (1,)) / '(1,)type'.\n",
      "  _np_quint8 = np.dtype([(\"quint8\", np.uint8, 1)])\n",
      "c:\\users\\dorotka\\anaconda3\\envs\\dataanalitics\\lib\\site-packages\\tensorboard\\compat\\tensorflow_stub\\dtypes.py:543: FutureWarning: Passing (type, 1) or '1type' as a synonym of type is deprecated; in a future version of numpy, it will be understood as (type, (1,)) / '(1,)type'.\n",
      "  _np_qint16 = np.dtype([(\"qint16\", np.int16, 1)])\n",
      "c:\\users\\dorotka\\anaconda3\\envs\\dataanalitics\\lib\\site-packages\\tensorboard\\compat\\tensorflow_stub\\dtypes.py:544: FutureWarning: Passing (type, 1) or '1type' as a synonym of type is deprecated; in a future version of numpy, it will be understood as (type, (1,)) / '(1,)type'.\n",
      "  _np_quint16 = np.dtype([(\"quint16\", np.uint16, 1)])\n",
      "c:\\users\\dorotka\\anaconda3\\envs\\dataanalitics\\lib\\site-packages\\tensorboard\\compat\\tensorflow_stub\\dtypes.py:545: FutureWarning: Passing (type, 1) or '1type' as a synonym of type is deprecated; in a future version of numpy, it will be understood as (type, (1,)) / '(1,)type'.\n",
      "  _np_qint32 = np.dtype([(\"qint32\", np.int32, 1)])\n",
      "c:\\users\\dorotka\\anaconda3\\envs\\dataanalitics\\lib\\site-packages\\tensorboard\\compat\\tensorflow_stub\\dtypes.py:550: FutureWarning: Passing (type, 1) or '1type' as a synonym of type is deprecated; in a future version of numpy, it will be understood as (type, (1,)) / '(1,)type'.\n",
      "  np_resource = np.dtype([(\"resource\", np.ubyte, 1)])\n"
     ]
    }
   ],
   "source": [
    "import numpy as np\n",
    "import pandas as pd\n",
    "\n",
    "\n",
    "from keras.models import Sequential\n",
    "from keras.layers import Dense, Dropout, Activation\n",
    "from keras.models import Model\n",
    "from keras.layers import LSTM\n",
    "\n",
    "from sklearn.model_selection import train_test_split\n",
    "from sklearn.preprocessing import StandardScaler\n",
    "from sklearn.metrics import mean_squared_error\n",
    "\n",
    "from math import sqrt"
   ]
  },
  {
   "cell_type": "code",
   "execution_count": 2,
   "metadata": {},
   "outputs": [],
   "source": [
    "import matplotlib.pyplot as plt\n",
    "\n",
    "def show_y_pred_test(y_pred_df, y_test_df, n=3,size = 100, station_name = \"\"):\n",
    "    plt.figure()\n",
    "    plt.plot(y_pred_df['PM10_Forecast_{}h'.format(n)][:size])\n",
    "    plt.plot(y_test_df.reset_index()['PM10_Forecast_{}h'.format(n)][:size] )\n",
    "    plt.title(\"Forecast {}h {}\".format(n, station_name))\n",
    "    plt.ylabel('PM10')\n",
    "    plt.xlabel('index')\n",
    "    plt.legend(['y_predicted', 'y_original'], loc='upper left')\n",
    "    return plt"
   ]
  },
  {
   "cell_type": "markdown",
   "metadata": {},
   "source": [
    "# Dane"
   ]
  },
  {
   "cell_type": "code",
   "execution_count": 3,
   "metadata": {
    "scrolled": true
   },
   "outputs": [
    {
     "data": {
      "text/html": [
       "<div>\n",
       "<style scoped>\n",
       "    .dataframe tbody tr th:only-of-type {\n",
       "        vertical-align: middle;\n",
       "    }\n",
       "\n",
       "    .dataframe tbody tr th {\n",
       "        vertical-align: top;\n",
       "    }\n",
       "\n",
       "    .dataframe thead th {\n",
       "        text-align: right;\n",
       "    }\n",
       "</style>\n",
       "<table border=\"1\" class=\"dataframe\">\n",
       "  <thead>\n",
       "    <tr style=\"text-align: right;\">\n",
       "      <th></th>\n",
       "      <th>timestamp</th>\n",
       "      <th>MpKrakAlKras-PM10-1g</th>\n",
       "      <th>Weather</th>\n",
       "      <th>Temp(C)</th>\n",
       "      <th>Wind(m/s)</th>\n",
       "      <th>Direction(deg)</th>\n",
       "      <th>Humidity</th>\n",
       "      <th>Barometer(mbar)</th>\n",
       "      <th>PM10_Forecast_3h</th>\n",
       "      <th>PM10_Forecast_8h</th>\n",
       "      <th>PM10_Forecast_12h</th>\n",
       "    </tr>\n",
       "  </thead>\n",
       "  <tbody>\n",
       "    <tr>\n",
       "      <th>0</th>\n",
       "      <td>2017-01-01 01:00:00</td>\n",
       "      <td>213.733</td>\n",
       "      <td>Ice fog.</td>\n",
       "      <td>-6.0</td>\n",
       "      <td>1.0</td>\n",
       "      <td>0.0</td>\n",
       "      <td>0.93</td>\n",
       "      <td>10.24</td>\n",
       "      <td>244.690</td>\n",
       "      <td>187.320</td>\n",
       "      <td>121.805</td>\n",
       "    </tr>\n",
       "    <tr>\n",
       "      <th>1</th>\n",
       "      <td>2017-01-01 02:00:00</td>\n",
       "      <td>213.868</td>\n",
       "      <td>Ice fog.</td>\n",
       "      <td>-7.0</td>\n",
       "      <td>2.0</td>\n",
       "      <td>190.0</td>\n",
       "      <td>0.93</td>\n",
       "      <td>10.24</td>\n",
       "      <td>224.673</td>\n",
       "      <td>181.194</td>\n",
       "      <td>119.096</td>\n",
       "    </tr>\n",
       "    <tr>\n",
       "      <th>2</th>\n",
       "      <td>2017-01-01 03:00:00</td>\n",
       "      <td>221.923</td>\n",
       "      <td>Ice fog.</td>\n",
       "      <td>-4.0</td>\n",
       "      <td>3.0</td>\n",
       "      <td>200.0</td>\n",
       "      <td>0.80</td>\n",
       "      <td>10.23</td>\n",
       "      <td>212.159</td>\n",
       "      <td>161.198</td>\n",
       "      <td>121.681</td>\n",
       "    </tr>\n",
       "    <tr>\n",
       "      <th>3</th>\n",
       "      <td>2017-01-01 04:00:00</td>\n",
       "      <td>244.690</td>\n",
       "      <td>Ice fog.</td>\n",
       "      <td>-7.0</td>\n",
       "      <td>3.0</td>\n",
       "      <td>210.0</td>\n",
       "      <td>0.86</td>\n",
       "      <td>10.22</td>\n",
       "      <td>198.375</td>\n",
       "      <td>136.218</td>\n",
       "      <td>138.353</td>\n",
       "    </tr>\n",
       "    <tr>\n",
       "      <th>4</th>\n",
       "      <td>2017-01-01 05:00:00</td>\n",
       "      <td>224.673</td>\n",
       "      <td>Ice fog.</td>\n",
       "      <td>-6.0</td>\n",
       "      <td>3.0</td>\n",
       "      <td>200.0</td>\n",
       "      <td>0.80</td>\n",
       "      <td>10.22</td>\n",
       "      <td>191.881</td>\n",
       "      <td>121.805</td>\n",
       "      <td>150.415</td>\n",
       "    </tr>\n",
       "  </tbody>\n",
       "</table>\n",
       "</div>"
      ],
      "text/plain": [
       "             timestamp  MpKrakAlKras-PM10-1g   Weather  Temp(C)  Wind(m/s)  \\\n",
       "0  2017-01-01 01:00:00               213.733  Ice fog.     -6.0        1.0   \n",
       "1  2017-01-01 02:00:00               213.868  Ice fog.     -7.0        2.0   \n",
       "2  2017-01-01 03:00:00               221.923  Ice fog.     -4.0        3.0   \n",
       "3  2017-01-01 04:00:00               244.690  Ice fog.     -7.0        3.0   \n",
       "4  2017-01-01 05:00:00               224.673  Ice fog.     -6.0        3.0   \n",
       "\n",
       "   Direction(deg)  Humidity  Barometer(mbar)  PM10_Forecast_3h  \\\n",
       "0             0.0      0.93            10.24           244.690   \n",
       "1           190.0      0.93            10.24           224.673   \n",
       "2           200.0      0.80            10.23           212.159   \n",
       "3           210.0      0.86            10.22           198.375   \n",
       "4           200.0      0.80            10.22           191.881   \n",
       "\n",
       "   PM10_Forecast_8h  PM10_Forecast_12h  \n",
       "0           187.320            121.805  \n",
       "1           181.194            119.096  \n",
       "2           161.198            121.681  \n",
       "3           136.218            138.353  \n",
       "4           121.805            150.415  "
      ]
     },
     "execution_count": 3,
     "metadata": {},
     "output_type": "execute_result"
    }
   ],
   "source": [
    "data = pd.read_csv(\"./data_preprocessed/2017-2018_single_MpKrakAlKras_with_forecast3_8_12h_cleared.csv\")\n",
    "\n",
    "data.head(5)"
   ]
  },
  {
   "cell_type": "code",
   "execution_count": 4,
   "metadata": {},
   "outputs": [],
   "source": [
    "X = data[[\"MpKrakAlKras-PM10-1g\",\"Direction(deg)\",\"Temp(C)\",\"Wind(m/s)\",\"Humidity\",\"Barometer(mbar)\"]]\n",
    "\n",
    "y = data[[\"PM10_Forecast_3h\",\"PM10_Forecast_8h\",\"PM10_Forecast_12h\"]]"
   ]
  },
  {
   "cell_type": "code",
   "execution_count": 5,
   "metadata": {},
   "outputs": [
    {
     "data": {
      "text/html": [
       "<div>\n",
       "<style scoped>\n",
       "    .dataframe tbody tr th:only-of-type {\n",
       "        vertical-align: middle;\n",
       "    }\n",
       "\n",
       "    .dataframe tbody tr th {\n",
       "        vertical-align: top;\n",
       "    }\n",
       "\n",
       "    .dataframe thead th {\n",
       "        text-align: right;\n",
       "    }\n",
       "</style>\n",
       "<table border=\"1\" class=\"dataframe\">\n",
       "  <thead>\n",
       "    <tr style=\"text-align: right;\">\n",
       "      <th></th>\n",
       "      <th>timestamp</th>\n",
       "      <th>MpKrakAlKras-PM10-1g</th>\n",
       "      <th>Weather</th>\n",
       "      <th>Temp(C)</th>\n",
       "      <th>Wind(m/s)</th>\n",
       "      <th>Direction(deg)</th>\n",
       "      <th>Humidity</th>\n",
       "      <th>Barometer(mbar)</th>\n",
       "      <th>PM10_Forecast_3h</th>\n",
       "      <th>PM10_Forecast_8h</th>\n",
       "      <th>PM10_Forecast_12h</th>\n",
       "    </tr>\n",
       "  </thead>\n",
       "  <tbody>\n",
       "    <tr>\n",
       "      <th>0</th>\n",
       "      <td>2017-01-01 01:00:00</td>\n",
       "      <td>213.733</td>\n",
       "      <td>Ice fog.</td>\n",
       "      <td>-6.0</td>\n",
       "      <td>1.0</td>\n",
       "      <td>0.0</td>\n",
       "      <td>0.93</td>\n",
       "      <td>10.24</td>\n",
       "      <td>244.690</td>\n",
       "      <td>187.320</td>\n",
       "      <td>121.805</td>\n",
       "    </tr>\n",
       "    <tr>\n",
       "      <th>1</th>\n",
       "      <td>2017-01-01 02:00:00</td>\n",
       "      <td>213.868</td>\n",
       "      <td>Ice fog.</td>\n",
       "      <td>-7.0</td>\n",
       "      <td>2.0</td>\n",
       "      <td>190.0</td>\n",
       "      <td>0.93</td>\n",
       "      <td>10.24</td>\n",
       "      <td>224.673</td>\n",
       "      <td>181.194</td>\n",
       "      <td>119.096</td>\n",
       "    </tr>\n",
       "    <tr>\n",
       "      <th>2</th>\n",
       "      <td>2017-01-01 03:00:00</td>\n",
       "      <td>221.923</td>\n",
       "      <td>Ice fog.</td>\n",
       "      <td>-4.0</td>\n",
       "      <td>3.0</td>\n",
       "      <td>200.0</td>\n",
       "      <td>0.80</td>\n",
       "      <td>10.23</td>\n",
       "      <td>212.159</td>\n",
       "      <td>161.198</td>\n",
       "      <td>121.681</td>\n",
       "    </tr>\n",
       "    <tr>\n",
       "      <th>3</th>\n",
       "      <td>2017-01-01 04:00:00</td>\n",
       "      <td>244.690</td>\n",
       "      <td>Ice fog.</td>\n",
       "      <td>-7.0</td>\n",
       "      <td>3.0</td>\n",
       "      <td>210.0</td>\n",
       "      <td>0.86</td>\n",
       "      <td>10.22</td>\n",
       "      <td>198.375</td>\n",
       "      <td>136.218</td>\n",
       "      <td>138.353</td>\n",
       "    </tr>\n",
       "    <tr>\n",
       "      <th>4</th>\n",
       "      <td>2017-01-01 05:00:00</td>\n",
       "      <td>224.673</td>\n",
       "      <td>Ice fog.</td>\n",
       "      <td>-6.0</td>\n",
       "      <td>3.0</td>\n",
       "      <td>200.0</td>\n",
       "      <td>0.80</td>\n",
       "      <td>10.22</td>\n",
       "      <td>191.881</td>\n",
       "      <td>121.805</td>\n",
       "      <td>150.415</td>\n",
       "    </tr>\n",
       "  </tbody>\n",
       "</table>\n",
       "</div>"
      ],
      "text/plain": [
       "             timestamp  MpKrakAlKras-PM10-1g   Weather  Temp(C)  Wind(m/s)  \\\n",
       "0  2017-01-01 01:00:00               213.733  Ice fog.     -6.0        1.0   \n",
       "1  2017-01-01 02:00:00               213.868  Ice fog.     -7.0        2.0   \n",
       "2  2017-01-01 03:00:00               221.923  Ice fog.     -4.0        3.0   \n",
       "3  2017-01-01 04:00:00               244.690  Ice fog.     -7.0        3.0   \n",
       "4  2017-01-01 05:00:00               224.673  Ice fog.     -6.0        3.0   \n",
       "\n",
       "   Direction(deg)  Humidity  Barometer(mbar)  PM10_Forecast_3h  \\\n",
       "0             0.0      0.93            10.24           244.690   \n",
       "1           190.0      0.93            10.24           224.673   \n",
       "2           200.0      0.80            10.23           212.159   \n",
       "3           210.0      0.86            10.22           198.375   \n",
       "4           200.0      0.80            10.22           191.881   \n",
       "\n",
       "   PM10_Forecast_8h  PM10_Forecast_12h  \n",
       "0           187.320            121.805  \n",
       "1           181.194            119.096  \n",
       "2           161.198            121.681  \n",
       "3           136.218            138.353  \n",
       "4           121.805            150.415  "
      ]
     },
     "execution_count": 5,
     "metadata": {},
     "output_type": "execute_result"
    }
   ],
   "source": [
    "data.head(5)"
   ]
  },
  {
   "cell_type": "code",
   "execution_count": 7,
   "metadata": {
    "scrolled": true
   },
   "outputs": [
    {
     "data": {
      "text/html": [
       "<div>\n",
       "<style scoped>\n",
       "    .dataframe tbody tr th:only-of-type {\n",
       "        vertical-align: middle;\n",
       "    }\n",
       "\n",
       "    .dataframe tbody tr th {\n",
       "        vertical-align: top;\n",
       "    }\n",
       "\n",
       "    .dataframe thead th {\n",
       "        text-align: right;\n",
       "    }\n",
       "</style>\n",
       "<table border=\"1\" class=\"dataframe\">\n",
       "  <thead>\n",
       "    <tr style=\"text-align: right;\">\n",
       "      <th></th>\n",
       "      <th>MpKrakAlKras-PM10-1g</th>\n",
       "      <th>Direction(deg)</th>\n",
       "      <th>Temp(C)</th>\n",
       "      <th>Wind(m/s)</th>\n",
       "      <th>Humidity</th>\n",
       "      <th>Barometer(mbar)</th>\n",
       "    </tr>\n",
       "  </thead>\n",
       "  <tbody>\n",
       "    <tr>\n",
       "      <th>0</th>\n",
       "      <td>3.406057</td>\n",
       "      <td>-1.229537</td>\n",
       "      <td>-1.641839</td>\n",
       "      <td>-1.06963</td>\n",
       "      <td>0.922469</td>\n",
       "      <td>1.009585</td>\n",
       "    </tr>\n",
       "    <tr>\n",
       "      <th>1</th>\n",
       "      <td>3.408971</td>\n",
       "      <td>0.461359</td>\n",
       "      <td>-1.747499</td>\n",
       "      <td>-0.62705</td>\n",
       "      <td>0.922469</td>\n",
       "      <td>1.009585</td>\n",
       "    </tr>\n",
       "    <tr>\n",
       "      <th>2</th>\n",
       "      <td>3.582857</td>\n",
       "      <td>0.550354</td>\n",
       "      <td>-1.430521</td>\n",
       "      <td>-0.18447</td>\n",
       "      <td>0.165148</td>\n",
       "      <td>0.881591</td>\n",
       "    </tr>\n",
       "    <tr>\n",
       "      <th>3</th>\n",
       "      <td>4.074335</td>\n",
       "      <td>0.639348</td>\n",
       "      <td>-1.747499</td>\n",
       "      <td>-0.18447</td>\n",
       "      <td>0.514681</td>\n",
       "      <td>0.753597</td>\n",
       "    </tr>\n",
       "    <tr>\n",
       "      <th>4</th>\n",
       "      <td>3.642222</td>\n",
       "      <td>0.550354</td>\n",
       "      <td>-1.641839</td>\n",
       "      <td>-0.18447</td>\n",
       "      <td>0.165148</td>\n",
       "      <td>0.753597</td>\n",
       "    </tr>\n",
       "  </tbody>\n",
       "</table>\n",
       "</div>"
      ],
      "text/plain": [
       "   MpKrakAlKras-PM10-1g  Direction(deg)   Temp(C)  Wind(m/s)  Humidity  \\\n",
       "0              3.406057       -1.229537 -1.641839   -1.06963  0.922469   \n",
       "1              3.408971        0.461359 -1.747499   -0.62705  0.922469   \n",
       "2              3.582857        0.550354 -1.430521   -0.18447  0.165148   \n",
       "3              4.074335        0.639348 -1.747499   -0.18447  0.514681   \n",
       "4              3.642222        0.550354 -1.641839   -0.18447  0.165148   \n",
       "\n",
       "   Barometer(mbar)  \n",
       "0         1.009585  \n",
       "1         1.009585  \n",
       "2         0.881591  \n",
       "3         0.753597  \n",
       "4         0.753597  "
      ]
     },
     "execution_count": 7,
     "metadata": {},
     "output_type": "execute_result"
    }
   ],
   "source": [
    "scaler = StandardScaler()\n",
    "X_scale = pd.DataFrame(scaler.fit_transform(X),columns=X.columns)\n",
    "X_scale.head()"
   ]
  },
  {
   "cell_type": "code",
   "execution_count": 16,
   "metadata": {},
   "outputs": [],
   "source": [
    "#weather_id trzeba by dodać jako one-hot a nie słownik, tylko że wtedy mamy 100 dodatkowych kolumn\n",
    "\n",
    "train_X, test_X, train_y, test_y = train_test_split(X_scale, y, test_size=0.1,\n",
    "                                                    random_state=0)"
   ]
  },
  {
   "cell_type": "code",
   "execution_count": 17,
   "metadata": {},
   "outputs": [],
   "source": [
    "train_X = train_X.values.reshape((train_X.values.shape[0], 1, train_X.values.shape[1]))\n",
    "test_X = test_X.values.reshape((test_X.values.shape[0], 1, test_X.values.shape[1]))"
   ]
  },
  {
   "cell_type": "markdown",
   "metadata": {},
   "source": [
    "# Model"
   ]
  },
  {
   "cell_type": "code",
   "execution_count": 18,
   "metadata": {},
   "outputs": [],
   "source": [
    "model = Sequential()\n",
    "# 50 neurons in first hidden layer\n",
    "model.add(LSTM(50, input_shape=(train_X.shape[1], train_X.shape[2])))\n",
    "model.add(Dropout(0.3))\n",
    "model.add(Dense(3,kernel_initializer='normal', activation='linear'))\n",
    "model.compile(loss='mae', optimizer='adam')"
   ]
  },
  {
   "cell_type": "code",
   "execution_count": 19,
   "metadata": {
    "scrolled": true
   },
   "outputs": [
    {
     "name": "stdout",
     "output_type": "stream",
     "text": [
      "WARNING:tensorflow:From c:\\users\\dorotka\\anaconda3\\envs\\dataanalitics\\lib\\site-packages\\keras\\backend\\tensorflow_backend.py:422: The name tf.global_variables is deprecated. Please use tf.compat.v1.global_variables instead.\n",
      "\n"
     ]
    },
    {
     "data": {
      "text/plain": [
       "<keras.callbacks.callbacks.History at 0x19379c49438>"
      ]
     },
     "execution_count": 19,
     "metadata": {},
     "output_type": "execute_result"
    }
   ],
   "source": [
    "model.fit(train_X, train_y, epochs=50, batch_size=72, validation_data=(test_X, test_y), verbose=0, shuffle=False)"
   ]
  },
  {
   "cell_type": "code",
   "execution_count": 20,
   "metadata": {
    "scrolled": true
   },
   "outputs": [
    {
     "data": {
      "text/plain": [
       "32.85869602427385"
      ]
     },
     "execution_count": 20,
     "metadata": {},
     "output_type": "execute_result"
    }
   ],
   "source": [
    "y_pred = model.predict(test_X)\n",
    "rms = sqrt(mean_squared_error(test_y, y_pred))\n",
    "rms"
   ]
  },
  {
   "cell_type": "code",
   "execution_count": 22,
   "metadata": {},
   "outputs": [
    {
     "data": {
      "text/plain": [
       "array([[36.53733, 36.14386, 36.18934]], dtype=float32)"
      ]
     },
     "execution_count": 22,
     "metadata": {},
     "output_type": "execute_result"
    }
   ],
   "source": [
    "now = np.array([[20,210,-8,3,0.8 ,10]])\n",
    "n=scaler.transform(now)\n",
    "nnn = n.reshape((n.shape[0], 1, n.shape[1]))\n",
    "\n",
    "pred = model.predict(nnn)\n",
    "pred\n",
    "#def predict(condtions):\n",
    "#    x_test = pad_sequences(tokenizer.texts_to_sequences([text]), maxlen=96)\n",
    "#    score = model.predict([x_test])[0]"
   ]
  },
  {
   "cell_type": "markdown",
   "metadata": {},
   "source": [
    "### Podsumowanie"
   ]
  },
  {
   "cell_type": "code",
   "execution_count": 25,
   "metadata": {},
   "outputs": [
    {
     "data": {
      "text/html": [
       "<div>\n",
       "<style scoped>\n",
       "    .dataframe tbody tr th:only-of-type {\n",
       "        vertical-align: middle;\n",
       "    }\n",
       "\n",
       "    .dataframe tbody tr th {\n",
       "        vertical-align: top;\n",
       "    }\n",
       "\n",
       "    .dataframe thead th {\n",
       "        text-align: right;\n",
       "    }\n",
       "</style>\n",
       "<table border=\"1\" class=\"dataframe\">\n",
       "  <thead>\n",
       "    <tr style=\"text-align: right;\">\n",
       "      <th></th>\n",
       "      <th>PM10_Forecast_3h</th>\n",
       "      <th>PM10_Forecast_8h</th>\n",
       "      <th>PM10_Forecast_12h</th>\n",
       "    </tr>\n",
       "  </thead>\n",
       "  <tbody>\n",
       "    <tr>\n",
       "      <th>0</th>\n",
       "      <td>142.605347</td>\n",
       "      <td>128.005920</td>\n",
       "      <td>120.323242</td>\n",
       "    </tr>\n",
       "    <tr>\n",
       "      <th>1</th>\n",
       "      <td>98.381592</td>\n",
       "      <td>98.176346</td>\n",
       "      <td>97.136337</td>\n",
       "    </tr>\n",
       "    <tr>\n",
       "      <th>2</th>\n",
       "      <td>131.492126</td>\n",
       "      <td>118.925140</td>\n",
       "      <td>112.149292</td>\n",
       "    </tr>\n",
       "    <tr>\n",
       "      <th>3</th>\n",
       "      <td>142.557281</td>\n",
       "      <td>128.015579</td>\n",
       "      <td>120.369942</td>\n",
       "    </tr>\n",
       "    <tr>\n",
       "      <th>4</th>\n",
       "      <td>72.662552</td>\n",
       "      <td>65.361977</td>\n",
       "      <td>62.570290</td>\n",
       "    </tr>\n",
       "  </tbody>\n",
       "</table>\n",
       "</div>"
      ],
      "text/plain": [
       "   PM10_Forecast_3h  PM10_Forecast_8h  PM10_Forecast_12h\n",
       "0        142.605347        128.005920         120.323242\n",
       "1         98.381592         98.176346          97.136337\n",
       "2        131.492126        118.925140         112.149292\n",
       "3        142.557281        128.015579         120.369942\n",
       "4         72.662552         65.361977          62.570290"
      ]
     },
     "execution_count": 25,
     "metadata": {},
     "output_type": "execute_result"
    }
   ],
   "source": [
    "_, X_test_orig, _, y_test_orig = train_test_split(X, y, test_size=0.1,\n",
    "                                                    random_state=0)\n",
    "\n",
    "y_test_orig = y_test_orig.sort_index()\n",
    "X_test_orig = X_test_orig.sort_index()\n",
    "\n",
    "X_test_scaler = scaler.transform(X_test_orig)\n",
    "X_test_scaler = X_test_scaler.reshape((X_test_scaler.shape[0], 1, X_test_scaler.shape[1]))\n",
    "\n",
    "y_pred = model.predict(X_test_scaler)\n",
    "y_pred_df = pd.DataFrame(y_pred,columns=y_test_orig.columns)\n",
    "y_pred_df.head()"
   ]
  },
  {
   "cell_type": "code",
   "execution_count": 26,
   "metadata": {},
   "outputs": [
    {
     "data": {
      "image/png": "[encoded data removed]",
      "text/plain": [
       "<Figure size 432x288 with 1 Axes>"
      ]
     },
     "metadata": {
      "needs_background": "light"
     },
     "output_type": "display_data"
    },
    {
     "data": {
      "image/png": "[encoded data removed]",
      "text/plain": [
       "<Figure size 432x288 with 1 Axes>"
      ]
     },
     "metadata": {
      "needs_background": "light"
     },
     "output_type": "display_data"
    },
    {
     "data": {
      "image/png": "[encoded data removed]",
      "text/plain": [
       "<Figure size 432x288 with 1 Axes>"
      ]
     },
     "metadata": {
      "needs_background": "light"
     },
     "output_type": "display_data"
    }
   ],
   "source": [
    "for n in (3, 8, 12):\n",
    "    show_y_pred_test(y_pred_df, y_test_orig, n=n, size=50, station_name=\"Al. Krasinskiego\")"
   ]
  },
  {
   "cell_type": "markdown",
   "metadata": {},
   "source": [
    "# To samo dla ul Bujaka"
   ]
  },
  {
   "cell_type": "code",
   "execution_count": 27,
   "metadata": {},
   "outputs": [
    {
     "data": {
      "text/html": [
       "<div>\n",
       "<style scoped>\n",
       "    .dataframe tbody tr th:only-of-type {\n",
       "        vertical-align: middle;\n",
       "    }\n",
       "\n",
       "    .dataframe tbody tr th {\n",
       "        vertical-align: top;\n",
       "    }\n",
       "\n",
       "    .dataframe thead th {\n",
       "        text-align: right;\n",
       "    }\n",
       "</style>\n",
       "<table border=\"1\" class=\"dataframe\">\n",
       "  <thead>\n",
       "    <tr style=\"text-align: right;\">\n",
       "      <th></th>\n",
       "      <th>timestamp</th>\n",
       "      <th>MpKrakBujaka-PM10-1g</th>\n",
       "      <th>Weather</th>\n",
       "      <th>Temp(C)</th>\n",
       "      <th>Wind(m/s)</th>\n",
       "      <th>Direction(deg)</th>\n",
       "      <th>Humidity</th>\n",
       "      <th>Barometer(mbar)</th>\n",
       "      <th>PM10_Forecast_3h</th>\n",
       "      <th>PM10_Forecast_8h</th>\n",
       "      <th>PM10_Forecast_12h</th>\n",
       "    </tr>\n",
       "  </thead>\n",
       "  <tbody>\n",
       "    <tr>\n",
       "      <th>0</th>\n",
       "      <td>2017-01-01 01:00:00</td>\n",
       "      <td>392.428</td>\n",
       "      <td>Ice fog.</td>\n",
       "      <td>-6.0</td>\n",
       "      <td>1.0</td>\n",
       "      <td>0.0</td>\n",
       "      <td>0.93</td>\n",
       "      <td>10.24</td>\n",
       "      <td>191.820</td>\n",
       "      <td>153.0490</td>\n",
       "      <td>81.3565</td>\n",
       "    </tr>\n",
       "    <tr>\n",
       "      <th>1</th>\n",
       "      <td>2017-01-01 02:00:00</td>\n",
       "      <td>258.667</td>\n",
       "      <td>Ice fog.</td>\n",
       "      <td>-7.0</td>\n",
       "      <td>2.0</td>\n",
       "      <td>190.0</td>\n",
       "      <td>0.93</td>\n",
       "      <td>10.24</td>\n",
       "      <td>187.663</td>\n",
       "      <td>127.6300</td>\n",
       "      <td>68.4491</td>\n",
       "    </tr>\n",
       "    <tr>\n",
       "      <th>2</th>\n",
       "      <td>2017-01-01 03:00:00</td>\n",
       "      <td>211.760</td>\n",
       "      <td>Ice fog.</td>\n",
       "      <td>-4.0</td>\n",
       "      <td>3.0</td>\n",
       "      <td>200.0</td>\n",
       "      <td>0.80</td>\n",
       "      <td>10.23</td>\n",
       "      <td>183.347</td>\n",
       "      <td>119.8900</td>\n",
       "      <td>83.1521</td>\n",
       "    </tr>\n",
       "    <tr>\n",
       "      <th>3</th>\n",
       "      <td>2017-01-01 04:00:00</td>\n",
       "      <td>191.820</td>\n",
       "      <td>Ice fog.</td>\n",
       "      <td>-7.0</td>\n",
       "      <td>3.0</td>\n",
       "      <td>210.0</td>\n",
       "      <td>0.86</td>\n",
       "      <td>10.22</td>\n",
       "      <td>153.062</td>\n",
       "      <td>108.1610</td>\n",
       "      <td>114.0370</td>\n",
       "    </tr>\n",
       "    <tr>\n",
       "      <th>4</th>\n",
       "      <td>2017-01-01 05:00:00</td>\n",
       "      <td>187.663</td>\n",
       "      <td>Ice fog.</td>\n",
       "      <td>-6.0</td>\n",
       "      <td>3.0</td>\n",
       "      <td>200.0</td>\n",
       "      <td>0.80</td>\n",
       "      <td>10.22</td>\n",
       "      <td>148.309</td>\n",
       "      <td>81.3565</td>\n",
       "      <td>154.2260</td>\n",
       "    </tr>\n",
       "  </tbody>\n",
       "</table>\n",
       "</div>"
      ],
      "text/plain": [
       "             timestamp  MpKrakBujaka-PM10-1g   Weather  Temp(C)  Wind(m/s)  \\\n",
       "0  2017-01-01 01:00:00               392.428  Ice fog.     -6.0        1.0   \n",
       "1  2017-01-01 02:00:00               258.667  Ice fog.     -7.0        2.0   \n",
       "2  2017-01-01 03:00:00               211.760  Ice fog.     -4.0        3.0   \n",
       "3  2017-01-01 04:00:00               191.820  Ice fog.     -7.0        3.0   \n",
       "4  2017-01-01 05:00:00               187.663  Ice fog.     -6.0        3.0   \n",
       "\n",
       "   Direction(deg)  Humidity  Barometer(mbar)  PM10_Forecast_3h  \\\n",
       "0             0.0      0.93            10.24           191.820   \n",
       "1           190.0      0.93            10.24           187.663   \n",
       "2           200.0      0.80            10.23           183.347   \n",
       "3           210.0      0.86            10.22           153.062   \n",
       "4           200.0      0.80            10.22           148.309   \n",
       "\n",
       "   PM10_Forecast_8h  PM10_Forecast_12h  \n",
       "0          153.0490            81.3565  \n",
       "1          127.6300            68.4491  \n",
       "2          119.8900            83.1521  \n",
       "3          108.1610           114.0370  \n",
       "4           81.3565           154.2260  "
      ]
     },
     "execution_count": 27,
     "metadata": {},
     "output_type": "execute_result"
    }
   ],
   "source": [
    "data = pd.read_csv(\"./data_preprocessed/2017-2018_single_MpKrakBujaka_with_forecast3_8_12h_cleared.csv\")\n",
    "\n",
    "data.head(5)"
   ]
  },
  {
   "cell_type": "code",
   "execution_count": 28,
   "metadata": {},
   "outputs": [],
   "source": [
    "X = data[[\"MpKrakBujaka-PM10-1g\",\"Direction(deg)\",\"Temp(C)\",\"Wind(m/s)\",\"Humidity\",\"Barometer(mbar)\"]]\n",
    "\n",
    "y = data[[\"PM10_Forecast_3h\",\"PM10_Forecast_8h\",\"PM10_Forecast_12h\"]]"
   ]
  },
  {
   "cell_type": "code",
   "execution_count": 29,
   "metadata": {},
   "outputs": [
    {
     "data": {
      "text/html": [
       "<div>\n",
       "<style scoped>\n",
       "    .dataframe tbody tr th:only-of-type {\n",
       "        vertical-align: middle;\n",
       "    }\n",
       "\n",
       "    .dataframe tbody tr th {\n",
       "        vertical-align: top;\n",
       "    }\n",
       "\n",
       "    .dataframe thead th {\n",
       "        text-align: right;\n",
       "    }\n",
       "</style>\n",
       "<table border=\"1\" class=\"dataframe\">\n",
       "  <thead>\n",
       "    <tr style=\"text-align: right;\">\n",
       "      <th></th>\n",
       "      <th>MpKrakBujaka-PM10-1g</th>\n",
       "      <th>Direction(deg)</th>\n",
       "      <th>Temp(C)</th>\n",
       "      <th>Wind(m/s)</th>\n",
       "      <th>Humidity</th>\n",
       "      <th>Barometer(mbar)</th>\n",
       "    </tr>\n",
       "  </thead>\n",
       "  <tbody>\n",
       "    <tr>\n",
       "      <th>0</th>\n",
       "      <td>7.769326</td>\n",
       "      <td>-1.225402</td>\n",
       "      <td>-1.614220</td>\n",
       "      <td>-1.089081</td>\n",
       "      <td>0.939750</td>\n",
       "      <td>1.009646</td>\n",
       "    </tr>\n",
       "    <tr>\n",
       "      <th>1</th>\n",
       "      <td>4.791464</td>\n",
       "      <td>0.468566</td>\n",
       "      <td>-1.718042</td>\n",
       "      <td>-0.640536</td>\n",
       "      <td>0.939750</td>\n",
       "      <td>1.009646</td>\n",
       "    </tr>\n",
       "    <tr>\n",
       "      <th>2</th>\n",
       "      <td>3.747194</td>\n",
       "      <td>0.557722</td>\n",
       "      <td>-1.406576</td>\n",
       "      <td>-0.191990</td>\n",
       "      <td>0.184622</td>\n",
       "      <td>0.881477</td>\n",
       "    </tr>\n",
       "    <tr>\n",
       "      <th>3</th>\n",
       "      <td>3.303279</td>\n",
       "      <td>0.646878</td>\n",
       "      <td>-1.718042</td>\n",
       "      <td>-0.191990</td>\n",
       "      <td>0.533143</td>\n",
       "      <td>0.753308</td>\n",
       "    </tr>\n",
       "    <tr>\n",
       "      <th>4</th>\n",
       "      <td>3.210733</td>\n",
       "      <td>0.557722</td>\n",
       "      <td>-1.614220</td>\n",
       "      <td>-0.191990</td>\n",
       "      <td>0.184622</td>\n",
       "      <td>0.753308</td>\n",
       "    </tr>\n",
       "  </tbody>\n",
       "</table>\n",
       "</div>"
      ],
      "text/plain": [
       "   MpKrakBujaka-PM10-1g  Direction(deg)   Temp(C)  Wind(m/s)  Humidity  \\\n",
       "0              7.769326       -1.225402 -1.614220  -1.089081  0.939750   \n",
       "1              4.791464        0.468566 -1.718042  -0.640536  0.939750   \n",
       "2              3.747194        0.557722 -1.406576  -0.191990  0.184622   \n",
       "3              3.303279        0.646878 -1.718042  -0.191990  0.533143   \n",
       "4              3.210733        0.557722 -1.614220  -0.191990  0.184622   \n",
       "\n",
       "   Barometer(mbar)  \n",
       "0         1.009646  \n",
       "1         1.009646  \n",
       "2         0.881477  \n",
       "3         0.753308  \n",
       "4         0.753308  "
      ]
     },
     "execution_count": 29,
     "metadata": {},
     "output_type": "execute_result"
    }
   ],
   "source": [
    "scaler = StandardScaler()\n",
    "X_scale = pd.DataFrame(scaler.fit_transform(X),columns=X.columns)\n",
    "X_scale.head()"
   ]
  },
  {
   "cell_type": "code",
   "execution_count": 30,
   "metadata": {},
   "outputs": [],
   "source": [
    "train_X, test_X, train_y, test_y = train_test_split(X_scale.values, y, test_size=0.1,\n",
    "                                                    random_state=0)"
   ]
  },
  {
   "cell_type": "code",
   "execution_count": 31,
   "metadata": {},
   "outputs": [],
   "source": [
    "train_X = train_X.reshape((train_X.shape[0], 1, train_X.shape[1]))\n",
    "test_X = test_X.reshape((test_X.shape[0], 1, test_X.shape[1]))"
   ]
  },
  {
   "cell_type": "code",
   "execution_count": 32,
   "metadata": {},
   "outputs": [],
   "source": [
    "model_bujaka = Sequential()\n",
    "# 50 neurons in first hidden layer\n",
    "model_bujaka.add(LSTM(50, input_shape=(train_X.shape[1], train_X.shape[2])))\n",
    "model_bujaka.add(Dropout(0.3))\n",
    "model_bujaka.add(Dense(3,kernel_initializer='normal', activation='linear'))\n",
    "model_bujaka.compile(loss='mae', optimizer='adam')"
   ]
  },
  {
   "cell_type": "code",
   "execution_count": 33,
   "metadata": {},
   "outputs": [
    {
     "data": {
      "text/plain": [
       "<keras.callbacks.callbacks.History at 0x1937ea9d518>"
      ]
     },
     "execution_count": 33,
     "metadata": {},
     "output_type": "execute_result"
    }
   ],
   "source": [
    "model_bujaka.fit(train_X, train_y, epochs=50, batch_size=72, validation_data=(test_X, test_y), verbose=0, shuffle=False)"
   ]
  },
  {
   "cell_type": "code",
   "execution_count": 34,
   "metadata": {},
   "outputs": [
    {
     "data": {
      "text/plain": [
       "32.96381253183882"
      ]
     },
     "execution_count": 34,
     "metadata": {},
     "output_type": "execute_result"
    }
   ],
   "source": [
    "y_pred = model_bujaka.predict(test_X)\n",
    "rms = sqrt(mean_squared_error(test_y, y_pred))\n",
    "rms"
   ]
  },
  {
   "cell_type": "markdown",
   "metadata": {},
   "source": [
    "### Podsumowanie:"
   ]
  },
  {
   "cell_type": "code",
   "execution_count": 36,
   "metadata": {},
   "outputs": [
    {
     "data": {
      "text/html": [
       "<div>\n",
       "<style scoped>\n",
       "    .dataframe tbody tr th:only-of-type {\n",
       "        vertical-align: middle;\n",
       "    }\n",
       "\n",
       "    .dataframe tbody tr th {\n",
       "        vertical-align: top;\n",
       "    }\n",
       "\n",
       "    .dataframe thead th {\n",
       "        text-align: right;\n",
       "    }\n",
       "</style>\n",
       "<table border=\"1\" class=\"dataframe\">\n",
       "  <thead>\n",
       "    <tr style=\"text-align: right;\">\n",
       "      <th></th>\n",
       "      <th>PM10_Forecast_3h</th>\n",
       "      <th>PM10_Forecast_8h</th>\n",
       "      <th>PM10_Forecast_12h</th>\n",
       "    </tr>\n",
       "  </thead>\n",
       "  <tbody>\n",
       "    <tr>\n",
       "      <th>0</th>\n",
       "      <td>125.152382</td>\n",
       "      <td>106.392754</td>\n",
       "      <td>98.633789</td>\n",
       "    </tr>\n",
       "    <tr>\n",
       "      <th>1</th>\n",
       "      <td>83.599251</td>\n",
       "      <td>77.857010</td>\n",
       "      <td>74.062103</td>\n",
       "    </tr>\n",
       "    <tr>\n",
       "      <th>2</th>\n",
       "      <td>123.623116</td>\n",
       "      <td>105.499908</td>\n",
       "      <td>97.830864</td>\n",
       "    </tr>\n",
       "    <tr>\n",
       "      <th>3</th>\n",
       "      <td>131.971375</td>\n",
       "      <td>112.434509</td>\n",
       "      <td>104.265167</td>\n",
       "    </tr>\n",
       "    <tr>\n",
       "      <th>4</th>\n",
       "      <td>81.961655</td>\n",
       "      <td>74.797691</td>\n",
       "      <td>70.880943</td>\n",
       "    </tr>\n",
       "  </tbody>\n",
       "</table>\n",
       "</div>"
      ],
      "text/plain": [
       "   PM10_Forecast_3h  PM10_Forecast_8h  PM10_Forecast_12h\n",
       "0        125.152382        106.392754          98.633789\n",
       "1         83.599251         77.857010          74.062103\n",
       "2        123.623116        105.499908          97.830864\n",
       "3        131.971375        112.434509         104.265167\n",
       "4         81.961655         74.797691          70.880943"
      ]
     },
     "execution_count": 36,
     "metadata": {},
     "output_type": "execute_result"
    }
   ],
   "source": [
    "_, X_test_orig, _, y_test_orig = train_test_split(X, y, test_size=0.1,\n",
    "                                                    random_state=0)\n",
    "\n",
    "y_test_orig = y_test_orig.sort_index()\n",
    "X_test_orig = X_test_orig.sort_index()\n",
    "\n",
    "X_test_scaler = scaler.transform(X_test_orig)\n",
    "X_test_scaler = X_test_scaler.reshape((X_test_scaler.shape[0], 1, X_test_scaler.shape[1]))\n",
    "\n",
    "y_pred = model_bujaka.predict(X_test_scaler)\n",
    "y_pred_df = pd.DataFrame(y_pred,columns=y_test_orig.columns)\n",
    "y_pred_df.head()"
   ]
  },
  {
   "cell_type": "code",
   "execution_count": 37,
   "metadata": {
    "scrolled": false
   },
   "outputs": [
    {
     "data": {
      "image/png": "[encoded data removed]",
      "text/plain": [
       "<Figure size 432x288 with 1 Axes>"
      ]
     },
     "metadata": {
      "needs_background": "light"
     },
     "output_type": "display_data"
    },
    {
     "data": {
      "image/png": "[encoded data removed]",
      "text/plain": [
       "<Figure size 432x288 with 1 Axes>"
      ]
     },
     "metadata": {
      "needs_background": "light"
     },
     "output_type": "display_data"
    },
    {
     "data": {
      "image/png": "[encoded data removed]",
      "text/plain": [
       "<Figure size 432x288 with 1 Axes>"
      ]
     },
     "metadata": {
      "needs_background": "light"
     },
     "output_type": "display_data"
    }
   ],
   "source": [
    "for n in (3, 8, 12):\n",
    "    show_y_pred_test(y_pred_df, y_test_orig, n=n, size=50, station_name=\"ul. Bujaka\")"
   ]
  },
  {
   "cell_type": "code",
   "execution_count": null,
   "metadata": {},
   "outputs": [],
   "source": []
  }
 ],
 "metadata": {
  "kernelspec": {
   "display_name": "Python 3",
   "language": "python",
   "name": "python3"
  },
  "language_info": {
   "codemirror_mode": {
    "name": "ipython",
    "version": 3
   },
   "file_extension": ".py",
   "mimetype": "text/x-python",
   "name": "python",
   "nbconvert_exporter": "python",
   "pygments_lexer": "ipython3",
   "version": "3.6.10"
  }
 },
 "nbformat": 4,
 "nbformat_minor": 2
}
